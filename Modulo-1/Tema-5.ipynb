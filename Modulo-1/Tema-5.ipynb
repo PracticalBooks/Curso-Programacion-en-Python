{
  "nbformat": 4,
  "nbformat_minor": 0,
  "metadata": {
    "colab": {
      "provenance": []
    },
    "kernelspec": {
      "name": "python3",
      "display_name": "Python 3"
    },
    "language_info": {
      "name": "python"
    }
  },
  "cells": [
    {
      "cell_type": "markdown",
      "source": [
        "**Nuestro primer código - Hola Mundo**"
      ],
      "metadata": {
        "id": "_4rN_4b-c9oz"
      }
    },
    {
      "cell_type": "code",
      "execution_count": null,
      "metadata": {
        "id": "iwMzS5efcy3L"
      },
      "outputs": [],
      "source": [
        "print(\"Hola mundo\")"
      ]
    },
    {
      "cell_type": "markdown",
      "source": [
        "**Múltiples Hola Mundo**"
      ],
      "metadata": {
        "id": "6AW9zx6SdjRh"
      }
    },
    {
      "cell_type": "code",
      "source": [
        "print(\"hola mundo\")\n",
        "print(\"hola mundo\")\n",
        "print(\"hola mundo\")"
      ],
      "metadata": {
        "id": "_bVP5EuJdl8K"
      },
      "execution_count": null,
      "outputs": []
    },
    {
      "cell_type": "markdown",
      "source": [
        "**Versión de Python**"
      ],
      "metadata": {
        "id": "vVPygXyhd72b"
      }
    },
    {
      "cell_type": "code",
      "source": [
        "!python --version"
      ],
      "metadata": {
        "id": "vlSpTKDDd3Fh"
      },
      "execution_count": null,
      "outputs": []
    }
  ]
}