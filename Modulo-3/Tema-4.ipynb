{
  "nbformat": 4,
  "nbformat_minor": 0,
  "metadata": {
    "colab": {
      "provenance": []
    },
    "kernelspec": {
      "name": "python3",
      "display_name": "Python 3"
    },
    "language_info": {
      "name": "python"
    }
  },
  "cells": [
    {
      "cell_type": "markdown",
      "source": [
        "**Programando nuestro primer ciclo for**"
      ],
      "metadata": {
        "id": "HyKlVzGHeXTI"
      }
    },
    {
      "cell_type": "code",
      "execution_count": null,
      "metadata": {
        "id": "NIjlLerXd0Sd"
      },
      "outputs": [],
      "source": [
        "edades = [25, 7, 39]\n",
        "\n",
        "for edad in edades:\n",
        "  print(edad)\n",
        "\n",
        "print(\"Fin programa\")"
      ]
    },
    {
      "cell_type": "markdown",
      "source": [
        "**Ciclo for con textos**"
      ],
      "metadata": {
        "id": "mvmgdY0fpici"
      }
    },
    {
      "cell_type": "code",
      "source": [
        "mensaje = \"Hola Ana\"\n",
        "\n",
        "for caracter in mensaje:\n",
        "  print(caracter)"
      ],
      "metadata": {
        "id": "QAKBisGGpjCi"
      },
      "execution_count": null,
      "outputs": []
    },
    {
      "cell_type": "markdown",
      "source": [
        "**Ciclo for con diccionarios**"
      ],
      "metadata": {
        "id": "gxMczYFcplUS"
      }
    },
    {
      "cell_type": "code",
      "source": [
        "ciclista = {\"nombre\":\"Egan\", \"apellido\":\"Bernal\", \"tipo\":\"Escalador\"}\n",
        "\n",
        "for clave in ciclista:\n",
        "  print(clave+\": \"+ciclista[clave])"
      ],
      "metadata": {
        "id": "JCnEjaIVpl87"
      },
      "execution_count": null,
      "outputs": []
    },
    {
      "cell_type": "markdown",
      "source": [
        "**Ciclo for con listas que contienen diccionarios**"
      ],
      "metadata": {
        "id": "J_oGWl1RpwOK"
      }
    },
    {
      "cell_type": "code",
      "source": [
        "discoteca1 = {\"nombre\":\"Perro negro\", \"ubicación\":\"Poblado\"}\n",
        "discoteca2 = {\"nombre\":\"Teatro victoria\", \"ubicación\":\"Poblado\"}\n",
        "\n",
        "discotecas = [discoteca1, discoteca2]\n",
        "\n",
        "for discoteca in discotecas:\n",
        "  print(discoteca[\"nombre\"]+\" - \"+discoteca[\"ubicación\"])"
      ],
      "metadata": {
        "id": "vHbH-I1wpxda"
      },
      "execution_count": null,
      "outputs": []
    },
    {
      "cell_type": "markdown",
      "source": [
        "**Imprimir lista de números**"
      ],
      "metadata": {
        "id": "AK-MBXS0qsjK"
      }
    },
    {
      "cell_type": "code",
      "source": [
        "numeros = [1, 2, 3, 4, 5]\n",
        "\n",
        "for numero in numeros:\n",
        "  print(numero)"
      ],
      "metadata": {
        "id": "aIBw2F9eqtAR"
      },
      "execution_count": null,
      "outputs": []
    },
    {
      "cell_type": "markdown",
      "source": [
        "**Función range con un sólo argumento**"
      ],
      "metadata": {
        "id": "Juoj3BgKqy8Q"
      }
    },
    {
      "cell_type": "code",
      "source": [
        "for numero in range(6):\n",
        "  print(numero)"
      ],
      "metadata": {
        "id": "7CxiTMm_q1hZ"
      },
      "execution_count": null,
      "outputs": []
    },
    {
      "cell_type": "markdown",
      "source": [
        "**Función range con múltiples argumentos**"
      ],
      "metadata": {
        "id": "Rrc7ckCjq6j5"
      }
    },
    {
      "cell_type": "code",
      "source": [
        "for numero in range(1, 7, 2):\n",
        "  print(numero)"
      ],
      "metadata": {
        "id": "ft9h3mGXq8F4"
      },
      "execution_count": null,
      "outputs": []
    },
    {
      "cell_type": "markdown",
      "source": [
        "**Ejercicio 1.i**"
      ],
      "metadata": {
        "id": "a1OLZgABrQ_x"
      }
    },
    {
      "cell_type": "code",
      "source": [
        "for i in range(1,81,1):\n",
        "  print(i)"
      ],
      "metadata": {
        "id": "9JVB9cxLrSMR"
      },
      "execution_count": null,
      "outputs": []
    },
    {
      "cell_type": "markdown",
      "source": [
        "**Ejercicio 1.ii**"
      ],
      "metadata": {
        "id": "qGIUpLwXrSh4"
      }
    },
    {
      "cell_type": "code",
      "source": [
        "for i in range(1000,-1,-100):\n",
        "  print(i)"
      ],
      "metadata": {
        "id": "VGLhixKFrUIw"
      },
      "execution_count": null,
      "outputs": []
    },
    {
      "cell_type": "markdown",
      "source": [
        "**Ejercicio 1.iii**"
      ],
      "metadata": {
        "id": "2IeRThF4rUbw"
      }
    },
    {
      "cell_type": "code",
      "source": [
        "for i in range(2,67,2):\n",
        "  print(i)"
      ],
      "metadata": {
        "id": "rehibkTorVVZ"
      },
      "execution_count": null,
      "outputs": []
    },
    {
      "cell_type": "markdown",
      "source": [
        "**Ejercicio 2**"
      ],
      "metadata": {
        "id": "01ozX77Mrksg"
      }
    },
    {
      "cell_type": "code",
      "source": [
        "nombre1 = input(\"Ingrese nombre 1: \")\n",
        "nombre2 = input(\"Ingrese nombre 2: \")\n",
        "nombre3 = input(\"Ingrese nombre 3: \")\n",
        "nombre4 = input(\"Ingrese nombre 4: \")\n",
        "\n",
        "nombres = [nombre1, nombre2, nombre3, nombre4]\n",
        "\n",
        "for nombre in nombres:\n",
        "  if(nombre[0] == \"L\"):\n",
        "    print(\"Nombre descartado\")\n",
        "  else:\n",
        "    print(\"Nombre posible\")"
      ],
      "metadata": {
        "id": "OBB9ZdlDrlz_"
      },
      "execution_count": null,
      "outputs": []
    },
    {
      "cell_type": "markdown",
      "source": [
        "**Reto 6**"
      ],
      "metadata": {
        "id": "T72Gp89orsBq"
      }
    },
    {
      "cell_type": "code",
      "source": [
        "numero = int(input(\"Ingrese un número: \"))\n",
        "\n",
        "for i in range(numero, -1, -1):\n",
        "  print(i)"
      ],
      "metadata": {
        "colab": {
          "base_uri": "https://localhost:8080/"
        },
        "id": "pTLmO5_HrttX",
        "outputId": "0594f35b-0f36-4a29-e9d1-361969ccab1f"
      },
      "execution_count": 4,
      "outputs": [
        {
          "output_type": "stream",
          "name": "stdout",
          "text": [
            "Ingrese un número: 5\n",
            "5\n",
            "4\n",
            "3\n",
            "2\n",
            "1\n",
            "0\n"
          ]
        }
      ]
    }
  ]
}