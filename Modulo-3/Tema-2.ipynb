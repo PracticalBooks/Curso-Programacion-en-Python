{
  "nbformat": 4,
  "nbformat_minor": 0,
  "metadata": {
    "colab": {
      "provenance": []
    },
    "kernelspec": {
      "name": "python3",
      "display_name": "Python 3"
    },
    "language_info": {
      "name": "python"
    }
  },
  "cells": [
    {
      "cell_type": "markdown",
      "source": [
        "**Definición de una lista**"
      ],
      "metadata": {
        "id": "RtNcKGfkPgpG"
      }
    },
    {
      "cell_type": "code",
      "execution_count": null,
      "metadata": {
        "id": "IFWSP6m4PTHr"
      },
      "outputs": [],
      "source": [
        "edades = [28, 67, 40, 15]"
      ]
    },
    {
      "cell_type": "code",
      "source": [
        "nombres = [\"Pedro\", \"Luisa\", \"Valeria\"]\n",
        "print(nombres)\n",
        "print(type(nombres))"
      ],
      "metadata": {
        "id": "OYZ2I8e5Pppb"
      },
      "execution_count": null,
      "outputs": []
    },
    {
      "cell_type": "markdown",
      "source": [
        "**Listas que almacenan diferentes tipos de datos**"
      ],
      "metadata": {
        "id": "bmftvxfZPxYb"
      }
    },
    {
      "cell_type": "code",
      "source": [
        "misDatos = [\"Luisa\", 37, \"lmalvarez33@eafit.edu.co\", 1.67]\n",
        "print(misDatos)"
      ],
      "metadata": {
        "id": "44H40ffFPx68"
      },
      "execution_count": null,
      "outputs": []
    },
    {
      "cell_type": "markdown",
      "source": [
        "**Propiedades de las listas**"
      ],
      "metadata": {
        "id": "rL60zwX2QNCj"
      }
    },
    {
      "cell_type": "code",
      "source": [
        "nombres = [\"Pedro\", \"Luisa\", \"Valeria\"]"
      ],
      "metadata": {
        "id": "Wx8A53OKQNmD"
      },
      "execution_count": null,
      "outputs": []
    },
    {
      "cell_type": "markdown",
      "source": [
        "**Visualización de listas en memoria**"
      ],
      "metadata": {
        "id": "I1YJZJ6xQoIq"
      }
    },
    {
      "cell_type": "code",
      "source": [
        "misDatos = [\"Luisa\", 18, 1.67]"
      ],
      "metadata": {
        "id": "KvNuaIrYQouq"
      },
      "execution_count": null,
      "outputs": []
    },
    {
      "cell_type": "markdown",
      "source": [
        "**Repasando valores y referencias**"
      ],
      "metadata": {
        "id": "JLkL-qylSkXa"
      }
    },
    {
      "cell_type": "code",
      "source": [
        "edad = 28\n",
        "hobbies = [\"Leer\"]"
      ],
      "metadata": {
        "id": "NyrlO9OVSlAg"
      },
      "execution_count": null,
      "outputs": []
    },
    {
      "cell_type": "markdown",
      "source": [
        "**Acceder a elementos de una lista**"
      ],
      "metadata": {
        "id": "0AX-hvBKSvDB"
      }
    },
    {
      "cell_type": "code",
      "source": [
        "cantantes = [\"Shakira\", \"Karol G\", \"J Balvin\", \"Maluma\"]\n",
        "cantante1 = cantantes[0]\n",
        "\n",
        "print(len(cantantes))\n",
        "print(cantante1)\n",
        "print(cantantes[2])\n",
        "print(cantantes[len(cantantes)-1])"
      ],
      "metadata": {
        "id": "PZvhsIDmSw4o"
      },
      "execution_count": null,
      "outputs": []
    },
    {
      "cell_type": "markdown",
      "source": [
        "**Acceder a elementos de una lista (error)**"
      ],
      "metadata": {
        "id": "gFUEvzcbS0CR"
      }
    },
    {
      "cell_type": "code",
      "source": [
        "cantantes = [\"Shakira\", \"Karol G\", \"J Balvin\", \"Maluma\"]\n",
        "cantante6 = cantantes[6]\n",
        "print(cantante6)"
      ],
      "metadata": {
        "id": "Pt1-_xTDS1PZ"
      },
      "execution_count": null,
      "outputs": []
    },
    {
      "cell_type": "markdown",
      "source": [
        "**Modificar elementos de una lista**"
      ],
      "metadata": {
        "id": "3KMihVh5S77R"
      }
    },
    {
      "cell_type": "code",
      "source": [
        "motocicletas = [\"Honda\", \"Yamaha\", \"Suzuki\"]\n",
        "print(motocicletas[0])\n",
        "\n",
        "motocicletas[0] = \"Ducati\"\n",
        "print(motocicletas[0])"
      ],
      "metadata": {
        "id": "TLvVHpirS8uX"
      },
      "execution_count": null,
      "outputs": []
    },
    {
      "cell_type": "markdown",
      "source": [
        "**Agregar elementos a una lista**"
      ],
      "metadata": {
        "id": "cE4J_eXeTF7Z"
      }
    },
    {
      "cell_type": "code",
      "source": [
        "aliens = []\n",
        "aliens.append(\"E.T.\")\n",
        "aliens.append(\"Goku\")\n",
        "aliens.append(\"Marvin\")\n",
        "aliens.append(\"Gazoo\")\n",
        "print(aliens[3])"
      ],
      "metadata": {
        "id": "4AO5KxwATGgp"
      },
      "execution_count": null,
      "outputs": []
    },
    {
      "cell_type": "markdown",
      "source": [
        "**Eliminar elementos de una lista**"
      ],
      "metadata": {
        "id": "7vgtCJdPTNTn"
      }
    },
    {
      "cell_type": "code",
      "source": [
        "aliens = [\"E.T.\", \"Goku\", \"Marvin\", \"Gazoo\"]\n",
        "print(aliens[1])\n",
        "aliens.pop(1)\n",
        "print(aliens[1])"
      ],
      "metadata": {
        "id": "CfADZ9S9TN5o"
      },
      "execution_count": null,
      "outputs": []
    },
    {
      "cell_type": "markdown",
      "source": [
        "**Ciclos con listas**"
      ],
      "metadata": {
        "id": "xfKRRGshTggo"
      }
    },
    {
      "cell_type": "code",
      "source": [
        "aliens = [\"E.T.\", \"Goku\", \"Marvin\", \"Gazoo\"]\n",
        "\n",
        "i = 0\n",
        "while(i < len(aliens)):\n",
        "  print(aliens[i])\n",
        "  i = i+1"
      ],
      "metadata": {
        "id": "1_9KQxUaThGh"
      },
      "execution_count": null,
      "outputs": []
    },
    {
      "cell_type": "markdown",
      "source": [
        "**Ejercicio 1**"
      ],
      "metadata": {
        "id": "m6hDi6UIUHq_"
      }
    },
    {
      "cell_type": "code",
      "source": [
        "pelicula1 = input(\"Ingrese el nombre la primera pelicula favorita: \")\n",
        "pelicula2 = input(\"Ingrese el nombre la segunda pelicula favorita: \")\n",
        "pelicula3 = input(\"Ingrese el nombre la tercera pelicula favorita: \")\n",
        "pelicula4 = input(\"Ingrese el nombre la cuarta pelicula favorita: \")\n",
        "\n",
        "peliculas = []\n",
        "peliculas.append(pelicula1)\n",
        "peliculas.append(pelicula2)\n",
        "peliculas.append(pelicula3)\n",
        "peliculas.append(pelicula4)\n",
        "\n",
        "print(peliculas)"
      ],
      "metadata": {
        "id": "T2qkdg3LUIwn"
      },
      "execution_count": null,
      "outputs": []
    },
    {
      "cell_type": "markdown",
      "source": [
        "**Ejercicio 2**"
      ],
      "metadata": {
        "id": "6O7wszluURqQ"
      }
    },
    {
      "cell_type": "code",
      "source": [
        "mensajeSecreto = [\"Planeta\", \"Más\", \"Secreto\", \"Alienigena\", \"Zombie\", \"Serás\", \"Nuclear\", \"Vos\"]\n",
        "\n",
        "i = 1\n",
        "while(i < len(mensajeSecreto)):\n",
        "  print(mensajeSecreto[i])\n",
        "  i = i+2"
      ],
      "metadata": {
        "id": "ric8u26DUSz4"
      },
      "execution_count": null,
      "outputs": []
    },
    {
      "cell_type": "markdown",
      "source": [
        "**Reto 3**"
      ],
      "metadata": {
        "id": "SF9zhzkjUcuj"
      }
    },
    {
      "cell_type": "code",
      "source": [
        "videojuegos = []\n",
        "\n",
        "juego1 = input(\"Ingrese nombre juego: \")\n",
        "juego2 = input(\"Ingrese nombre juego: \")\n",
        "\n",
        "videojuegos.append(juego1)\n",
        "videojuegos.append(juego2)\n",
        "videojuegos.append(\"GTA V\")\n",
        "\n",
        "i = 0\n",
        "while(i < len(videojuegos)):\n",
        "  print(videojuegos[i])\n",
        "  i = i+1"
      ],
      "metadata": {
        "id": "rF0KbIrsUeCA"
      },
      "execution_count": null,
      "outputs": []
    },
    {
      "cell_type": "markdown",
      "source": [
        "**Reto 4**"
      ],
      "metadata": {
        "id": "Y0sZgKWnUutI"
      }
    },
    {
      "cell_type": "code",
      "source": [
        "libros = []\n",
        "\n",
        "cantidad = int(input(\"Ingrese cantidad de libros leídos en un año: \"))\n",
        "\n",
        "i = 1\n",
        "while(i <= cantidad):\n",
        "  nombreLibro = input(\"Ingrese el nombre de un libro: \")\n",
        "  libros.append(nombreLibro)\n",
        "  i = i+1\n",
        "\n",
        "print(libros)"
      ],
      "metadata": {
        "id": "5fdKTLtPUvzn"
      },
      "execution_count": null,
      "outputs": []
    }
  ]
}