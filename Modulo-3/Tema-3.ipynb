{
  "nbformat": 4,
  "nbformat_minor": 0,
  "metadata": {
    "colab": {
      "provenance": []
    },
    "kernelspec": {
      "name": "python3",
      "display_name": "Python 3"
    },
    "language_info": {
      "name": "python"
    }
  },
  "cells": [
    {
      "cell_type": "markdown",
      "source": [
        "**Definición de diccionarios**"
      ],
      "metadata": {
        "id": "0-rsMXdXXnKG"
      }
    },
    {
      "cell_type": "code",
      "execution_count": null,
      "metadata": {
        "id": "6OFp3YjXWDB_"
      },
      "outputs": [],
      "source": [
        "misDatos = {\n",
        "  \"nombre\":\"Luisa\",\n",
        "  \"edad\":18,\n",
        "  \"estatura\":1.67\n",
        "}"
      ]
    },
    {
      "cell_type": "code",
      "source": [
        "producto = {\n",
        "  \"nombre\":\"iPhone 14\",\n",
        "  \"precio\":799,\n",
        "  \"color\":\"plata\"\n",
        "}\n",
        "print(producto)\n",
        "print(type(producto))"
      ],
      "metadata": {
        "id": "g8oiMQmcXu27"
      },
      "execution_count": null,
      "outputs": []
    },
    {
      "cell_type": "markdown",
      "source": [
        "**Propiedades de los diccionarios**"
      ],
      "metadata": {
        "id": "aUXVbUwDX1Pk"
      }
    },
    {
      "cell_type": "code",
      "source": [
        "artista = {\"nombre\":\"Fernando\", \"apellido\":\"Botero\", \"edad\":90}"
      ],
      "metadata": {
        "id": "Ssu_13h1X19U"
      },
      "execution_count": null,
      "outputs": []
    },
    {
      "cell_type": "markdown",
      "source": [
        "**Visualización de diccionarios en memoria**"
      ],
      "metadata": {
        "id": "yGqpmAkyYH2U"
      }
    },
    {
      "cell_type": "code",
      "source": [
        "misDatos = {\"nombre\":\"Luisa\", \"edad\":18, \"estatura\":1.67}"
      ],
      "metadata": {
        "id": "rt6apsmbYIf0"
      },
      "execution_count": null,
      "outputs": []
    },
    {
      "cell_type": "markdown",
      "source": [
        "**Utilizar listas**"
      ],
      "metadata": {
        "id": "CqOEX-tPYcE9"
      }
    },
    {
      "cell_type": "code",
      "source": [
        "notas = [4.5, 3.0, 5.0]\n",
        "dias = [\"Lunes\", \"Martes\", \"Miércoles\"]\n",
        "edades = [40, 12, 29, 55]"
      ],
      "metadata": {
        "id": "79W6fqoIYcpz"
      },
      "execution_count": null,
      "outputs": []
    },
    {
      "cell_type": "markdown",
      "source": [
        "**Utilizar diccionarios**"
      ],
      "metadata": {
        "id": "lM5roFG-YeBk"
      }
    },
    {
      "cell_type": "code",
      "source": [
        "computador = {\"marca\":\"Dell\", \"procesador\":\"i7\"}\n",
        "personaje = {\"nombre\":\"mago\", \"ataque\":20}\n",
        "pais = {\"nombre\":\"Colombia\", \"capital\":\"Bogotá\"}"
      ],
      "metadata": {
        "id": "maL0LtY4YfSM"
      },
      "execution_count": null,
      "outputs": []
    },
    {
      "cell_type": "markdown",
      "source": [
        "**Acceder a valores de un diccionario**"
      ],
      "metadata": {
        "id": "bpaZE9fmYoVs"
      }
    },
    {
      "cell_type": "code",
      "source": [
        "carro = {\n",
        "  \"marca\":\"Toyota\",\n",
        "  \"color\":\"negro\"\n",
        "}\n",
        "\n",
        "print(len(carro))\n",
        "print(carro[\"marca\"])\n",
        "print(carro[\"color\"])"
      ],
      "metadata": {
        "id": "QG_wi0Z5Yo-8"
      },
      "execution_count": null,
      "outputs": []
    },
    {
      "cell_type": "markdown",
      "source": [
        "**Modificar valores de un diccionario**"
      ],
      "metadata": {
        "id": "bplvrEDfYxqL"
      }
    },
    {
      "cell_type": "code",
      "source": [
        "carro = {\n",
        "  \"marca\":\"Toyota\",\n",
        "  \"color\":\"negro\"\n",
        "}\n",
        "\n",
        "print(carro[\"color\"])\n",
        "carro[\"color\"] = \"rojo\"\n",
        "print(carro[\"color\"])"
      ],
      "metadata": {
        "id": "8HBW0lR2YybD"
      },
      "execution_count": null,
      "outputs": []
    },
    {
      "cell_type": "markdown",
      "source": [
        "**Agregar valores a un diccionario**"
      ],
      "metadata": {
        "id": "4jS81iiVY2Rj"
      }
    },
    {
      "cell_type": "code",
      "source": [
        "carro = {\n",
        "  \"marca\":\"Toyota\",\n",
        "  \"color\":\"negro\"\n",
        "}\n",
        "\n",
        "carro[\"maletero\"] = \"SkyBox 16\"\n",
        "carro[\"guardabarro\"] = \"Pocket Style\"\n",
        "print(carro[\"maletero\"])\n",
        "print(carro)"
      ],
      "metadata": {
        "id": "n_UvMKTsY3XU"
      },
      "execution_count": null,
      "outputs": []
    },
    {
      "cell_type": "markdown",
      "source": [
        "**Eliminar valores de un diccionario**"
      ],
      "metadata": {
        "id": "m2_Y_wc2ZLIz"
      }
    },
    {
      "cell_type": "code",
      "source": [
        "carro = {\n",
        "  \"marca\":\"Toyota\",\n",
        "  \"color\":\"negro\",\n",
        "  \"maletero\":\"SkyBox 16\"\n",
        "}\n",
        "\n",
        "print(carro)\n",
        "carro.pop(\"maletero\")\n",
        "print(carro)"
      ],
      "metadata": {
        "id": "w2mm9t8KZLyK"
      },
      "execution_count": null,
      "outputs": []
    },
    {
      "cell_type": "markdown",
      "source": [
        "**Listas que contienen diccionarios**"
      ],
      "metadata": {
        "id": "OI8ZKHV4atYo"
      }
    },
    {
      "cell_type": "code",
      "source": [
        "producto1 = {\"nombre\":\"Monitor\", \"precio\":119}\n",
        "producto2 = {\"nombre\":\"Mouse\", \"precio\":6}\n",
        "\n",
        "listaProductos = []\n",
        "listaProductos.append(producto1)\n",
        "listaProductos.append(producto2)\n",
        "\n",
        "print(listaProductos)\n",
        "print(listaProductos[0])\n",
        "print(listaProductos[0][\"nombre\"])"
      ],
      "metadata": {
        "id": "3qGuQzXRat_B"
      },
      "execution_count": null,
      "outputs": []
    },
    {
      "cell_type": "markdown",
      "source": [
        "**Ciclos con listas que contienen diccionarios**"
      ],
      "metadata": {
        "id": "iOH8R_wWawX5"
      }
    },
    {
      "cell_type": "code",
      "source": [
        "producto1 = {\"nombre\":\"Monitor\", \"precio\":119}\n",
        "producto2 = {\"nombre\":\"Mouse\", \"precio\":6}\n",
        "\n",
        "listaProductos = [producto1, producto2]\n",
        "\n",
        "i = 0\n",
        "while(i < len(listaProductos)):\n",
        "  print(\"Nombre producto: \"+listaProductos[i][\"nombre\"])\n",
        "  print(\"Precio producto: \"+str(listaProductos[i][\"precio\"]))\n",
        "  i = i+1"
      ],
      "metadata": {
        "id": "Y43wA9PSaxvz"
      },
      "execution_count": null,
      "outputs": []
    },
    {
      "cell_type": "markdown",
      "source": [
        "**Ejercicio 1**"
      ],
      "metadata": {
        "id": "8TgZj2oscRBQ"
      }
    },
    {
      "cell_type": "code",
      "source": [
        "nombre = input(\"Ingrese nombre de mascota: \")\n",
        "edad = int(input(\"Ingrese edad de mascota: \"))\n",
        "raza = input(\"Ingrese raza de mascota: \")\n",
        "\n",
        "mascota = {\n",
        "  \"nombre\":nombre,\n",
        "  \"edad\":edad,\n",
        "  \"raza\":raza\n",
        "}\n",
        "\n",
        "print(mascota)"
      ],
      "metadata": {
        "id": "9v0pWjJmcS6f"
      },
      "execution_count": null,
      "outputs": []
    },
    {
      "cell_type": "markdown",
      "source": [
        "**Ejercicio 2**"
      ],
      "metadata": {
        "id": "KE9fkDRAcXD3"
      }
    },
    {
      "cell_type": "code",
      "source": [
        "numero = int(input(\"Ingrese numero: \"))\n",
        "equipos = []\n",
        "\n",
        "i = 1\n",
        "while(i<=numero):\n",
        "  nombre = input(\"Ingrese nombre del equipo: \")\n",
        "  pais = input(\"Ingrese país de origen: \")\n",
        "  equipo = {\"nombre\":nombre, \"pais\":pais}\n",
        "  equipos.append(equipo)\n",
        "  i=i+1\n",
        "\n",
        "print(equipos)"
      ],
      "metadata": {
        "id": "M2RiWQRpcYtJ"
      },
      "execution_count": null,
      "outputs": []
    },
    {
      "cell_type": "markdown",
      "source": [
        "**Reto 5**"
      ],
      "metadata": {
        "id": "NYvPbIe7dWT_"
      }
    },
    {
      "cell_type": "code",
      "source": [
        "carro1 = {\"marca\":\"Toyota\",\"color\":\"rojo\",\"generación\":2020}\n",
        "carro2 = {\"marca\":\"Mazda\",\"color\":\"verde\",\"generación\":2018}\n",
        "carro3 = {\"marca\":\"Tesla\",\"color\":\"gris\",\"generación\":2022}\n",
        "carro4 = {\"marca\":\"BMW\",\"color\":\"negro\",\"generación\":2005}\n",
        "\n",
        "listaCarros = [carro1, carro2, carro3, carro4]\n",
        "\n",
        "i = 0\n",
        "while(i < len(listaCarros)):\n",
        "  print(\"La marca es: \"+listaCarros[i][\"marca\"])\n",
        "  print(\"El color es: \"+listaCarros[i][\"color\"])\n",
        "  print(\"La generación es: \"+str(listaCarros[i][\"generación\"]))\n",
        "  i = i+1"
      ],
      "metadata": {
        "id": "uZgcuSBpdXWf"
      },
      "execution_count": null,
      "outputs": []
    }
  ]
}