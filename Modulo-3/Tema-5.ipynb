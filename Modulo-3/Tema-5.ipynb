{
  "nbformat": 4,
  "nbformat_minor": 0,
  "metadata": {
    "colab": {
      "provenance": []
    },
    "kernelspec": {
      "name": "python3",
      "display_name": "Python 3"
    },
    "language_info": {
      "name": "python"
    }
  },
  "cells": [
    {
      "cell_type": "markdown",
      "source": [
        "**Acumuladores con listas**"
      ],
      "metadata": {
        "id": "cXt7hHuZteZO"
      }
    },
    {
      "cell_type": "code",
      "execution_count": null,
      "metadata": {
        "id": "TttE72QHtZUJ"
      },
      "outputs": [],
      "source": [
        "salarios = [3000, 1500, 800]\n",
        "\n",
        "acumuladorSalarios = 0\n",
        "i = 0\n",
        "while(i < len(salarios)):\n",
        "  acumuladorSalarios = acumuladorSalarios+salarios[i]\n",
        "  i = i+1\n",
        "\n",
        "print(\"Total suma de salarios: \"+str(acumuladorSalarios))"
      ]
    },
    {
      "cell_type": "markdown",
      "source": [
        "**Acumuladores con listas que contienen diccionarios**"
      ],
      "metadata": {
        "id": "g5LoRqNatpw9"
      }
    },
    {
      "cell_type": "code",
      "source": [
        "ciudad1 = {\"nombre\":\"Envigado\", \"habitantes\": 249800}\n",
        "ciudad2 = {\"nombre\":\"Sabaneta\", \"habitantes\": 87981}\n",
        "ciudad3 = {\"nombre\":\"Rionegro\", \"habitantes\": 147484}\n",
        "\n",
        "ciudades = [ciudad1, ciudad2, ciudad3]\n",
        "acumulador = 0\n",
        "\n",
        "for ciudad in ciudades:\n",
        "  acumulador = acumulador+ciudad[\"habitantes\"]\n",
        "\n",
        "promedio = acumulador/len(ciudades)\n",
        "print(\"Promedio de habitantes: \"+str(promedio))"
      ],
      "metadata": {
        "id": "IfWsb1ygtqnl"
      },
      "execution_count": null,
      "outputs": []
    },
    {
      "cell_type": "markdown",
      "source": [
        "**Contadores con listas**"
      ],
      "metadata": {
        "id": "DISEZgdpuVrd"
      }
    },
    {
      "cell_type": "code",
      "source": [
        "edades = [34, 50, 28, 20, 44]\n",
        "\n",
        "contadorMayores30 = 0\n",
        "i = 0\n",
        "while(i < len(edades)):\n",
        "  if(edades[i] > 30):\n",
        "    contadorMayores30 = contadorMayores30+1\n",
        "  i = i+1\n",
        "\n",
        "print(\"Total mayores de 30: \"+str(contadorMayores30))"
      ],
      "metadata": {
        "id": "82Gpl7k0uWTk"
      },
      "execution_count": null,
      "outputs": []
    },
    {
      "cell_type": "markdown",
      "source": [
        "**Contadores con listas que contienen diccionarios**"
      ],
      "metadata": {
        "id": "hwYaYlSIud2G"
      }
    },
    {
      "cell_type": "code",
      "source": [
        "ciudad1 = {\"nombre\":\"Envigado\", \"habitantes\": 249800}\n",
        "ciudad2 = {\"nombre\":\"Sabaneta\", \"habitantes\": 87981}\n",
        "ciudad3 = {\"nombre\":\"Rionegro\", \"habitantes\": 147484}\n",
        "\n",
        "ciudades = [ciudad1, ciudad2, ciudad3]\n",
        "contador = 0\n",
        "\n",
        "for ciudad in ciudades:\n",
        "  if(ciudad[\"habitantes\"] > 90000):\n",
        "    contador = contador+1\n",
        "\n",
        "print(\"Más de 90000 habitantes: \"+str(contador))"
      ],
      "metadata": {
        "id": "SZexKDTMueYj"
      },
      "execution_count": null,
      "outputs": []
    },
    {
      "cell_type": "markdown",
      "source": [
        "**Banderas**"
      ],
      "metadata": {
        "id": "v17uk6G3u4vW"
      }
    },
    {
      "cell_type": "code",
      "source": [
        "notas = [4.0, 2.0, 1.2, 4.7, 1.7]\n",
        "banderaNotaAlta = False\n",
        "\n",
        "for nota in notas:\n",
        "  if(nota > 4.5):\n",
        "    banderaNotaAlta = True\n",
        "    break\n",
        "\n",
        "if(banderaNotaAlta):\n",
        "  print(\"Sacaste por lo menos una nota alta\")\n",
        "else:\n",
        "  print(\"No sacaste notas altas\")"
      ],
      "metadata": {
        "id": "YHIoYAVsu5Pl"
      },
      "execution_count": null,
      "outputs": []
    },
    {
      "cell_type": "markdown",
      "source": [
        "**Ejercicio 1**"
      ],
      "metadata": {
        "id": "Yh9oKLtru-GW"
      }
    },
    {
      "cell_type": "code",
      "source": [
        "a1 = {\"nombre\":\"2022 HX1\", \"distancia\":2490000}\n",
        "a2 = {\"nombre\":\"2022 HA2\", \"distancia\":4620000}\n",
        "a3 = {\"nombre\":\"101955 Bennu\", \"distancia\":32490000}\n",
        "asteroides = [a1, a2, a3]\n",
        "\n",
        "contador = 0\n",
        "for asteroide in asteroides:\n",
        "  if(asteroide[\"distancia\"] < 7500000):\n",
        "    contador = contador+1\n",
        "\n",
        "print(\"Asteroides con alta probabilidad de colisión: \"+str(contador))"
      ],
      "metadata": {
        "id": "LiA9qYxSu_PN"
      },
      "execution_count": null,
      "outputs": []
    },
    {
      "cell_type": "markdown",
      "source": [
        "**Ejercicio 2**"
      ],
      "metadata": {
        "id": "5AMeczWGvDyV"
      }
    },
    {
      "cell_type": "code",
      "source": [
        "a1 = {\"nombre\":\"2022 HX1\", \"distancia\":2490000}\n",
        "a2 = {\"nombre\":\"2022 HA2\", \"distancia\":4620000}\n",
        "a3 = {\"nombre\":\"101955 Bennu\", \"distancia\":32490000}\n",
        "asteroides = [a1, a2, a3]\n",
        "\n",
        "acumulador = 0\n",
        "for asteroide in asteroides:\n",
        "  acumulador = acumulador+asteroide[\"distancia\"]\n",
        "\n",
        "promedio = acumulador/len(asteroides)\n",
        "print(\"Promedio de distancia de asteroides: \"+str(promedio))"
      ],
      "metadata": {
        "id": "HSY2bHSpvFBM"
      },
      "execution_count": null,
      "outputs": []
    },
    {
      "cell_type": "markdown",
      "source": [
        "**Reto 7**"
      ],
      "metadata": {
        "id": "VNAUfd3BvNdb"
      }
    },
    {
      "cell_type": "code",
      "source": [
        "vehiculo1 = {\"tipo\":\"moto\", \"precio\":20000}\n",
        "vehiculo2 = {\"tipo\":\"carro\", \"precio\":35000}\n",
        "vehiculo3 = {\"tipo\":\"carro\", \"precio\":46000}\n",
        "vehiculo4 = {\"tipo\":\"moto\", \"precio\":12000}\n",
        "vehiculo5 = {\"tipo\":\"carro\", \"precio\":52000}\n",
        "\n",
        "listaVehiculos = [vehiculo1, vehiculo2, vehiculo3, vehiculo4, vehiculo5]\n",
        "\n",
        "contadorCarros = 0\n",
        "contadorMotos = 0\n",
        "valorVehiculos = 0\n",
        "valorMotos = 0\n",
        "valorCarros = 0\n",
        "i = 0\n",
        "while(i < len(listaVehiculos)):\n",
        "  if(listaVehiculos[i][\"tipo\"] == \"carro\"):\n",
        "    contadorCarros = contadorCarros+1\n",
        "    valorCarros = valorCarros+listaVehiculos[i][\"precio\"]\n",
        "  else:\n",
        "    contadorMotos = contadorMotos+1\n",
        "    valorMotos = valorMotos+listaVehiculos[i][\"precio\"]\n",
        "\n",
        "  valorVehiculos = valorVehiculos+listaVehiculos[i][\"precio\"]\n",
        "  i = i+1\n",
        "\n",
        "print(\"Cantidad de carros: \"+str(contadorCarros))\n",
        "print(\"Cantidad de motos: \"+str(contadorMotos))\n",
        "print(\"Valor vehículos: \"+str(valorVehiculos))\n",
        "print(\"Valor motos: \"+str(valorMotos))\n",
        "print(\"Precio promedio carros: \"+str(valorCarros/contadorCarros))"
      ],
      "metadata": {
        "id": "zkL0kaNZvOeE"
      },
      "execution_count": null,
      "outputs": []
    }
  ]
}