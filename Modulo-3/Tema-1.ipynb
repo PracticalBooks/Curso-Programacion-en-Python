{
  "nbformat": 4,
  "nbformat_minor": 0,
  "metadata": {
    "colab": {
      "provenance": []
    },
    "kernelspec": {
      "name": "python3",
      "display_name": "Python 3"
    },
    "language_info": {
      "name": "python"
    }
  },
  "cells": [
    {
      "cell_type": "markdown",
      "source": [
        "**Variables str**"
      ],
      "metadata": {
        "id": "6W1lKxIuBTEN"
      }
    },
    {
      "cell_type": "code",
      "execution_count": null,
      "metadata": {
        "id": "QhqBoKe99T4U"
      },
      "outputs": [],
      "source": [
        "nombre = \"Juliana\"\n",
        "apellido = 'Parra'\n",
        "nombreCompleto = nombre + \" \" + apellido\n",
        "\n",
        "print(nombreCompleto)\n",
        "print(\"30 años\")\n",
        "print(type(nombreCompleto))"
      ]
    },
    {
      "cell_type": "markdown",
      "source": [
        "**Propiedades de los textos**"
      ],
      "metadata": {
        "id": "tpphxmcwBlw5"
      }
    },
    {
      "cell_type": "code",
      "source": [
        "mensaje = \"Hola, Grupo\""
      ],
      "metadata": {
        "id": "dWMxygjzBmXx"
      },
      "execution_count": null,
      "outputs": []
    },
    {
      "cell_type": "markdown",
      "source": [
        "**Obtener el tamaño de un texto**"
      ],
      "metadata": {
        "id": "Dpar4-YuDql5"
      }
    },
    {
      "cell_type": "code",
      "source": [
        "mensaje = \"Hola, Grupo\"\n",
        "\n",
        "tamaño1 = len(mensaje)\n",
        "tamaño2 = len(\"Medellín\")\n",
        "\n",
        "print(tamaño1)\n",
        "print(tamaño2)"
      ],
      "metadata": {
        "id": "egMvZ435Drou"
      },
      "execution_count": null,
      "outputs": []
    },
    {
      "cell_type": "markdown",
      "source": [
        "**Extracción de un carácter**"
      ],
      "metadata": {
        "id": "SvF63WrpEcWW"
      }
    },
    {
      "cell_type": "code",
      "source": [
        "mensaje = \"Hola, Grupo\"\n",
        "caracterPos0 = mensaje[0]\n",
        "caracterPos4 = mensaje[4]\n",
        "caracterPosFinal = mensaje[len(mensaje)-1]\n",
        "\n",
        "print(caracterPos0)\n",
        "print(caracterPos4)\n",
        "print(caracterPosFinal)"
      ],
      "metadata": {
        "id": "HqJiytBXEdGv"
      },
      "execution_count": null,
      "outputs": []
    },
    {
      "cell_type": "markdown",
      "source": [
        "**Extracción de un carácter (error)**"
      ],
      "metadata": {
        "id": "J02wcam3Eh4n"
      }
    },
    {
      "cell_type": "code",
      "source": [
        "marca = \"Tesla\"\n",
        "caracterPos6 = marca[6]\n",
        "print(caracterPos6)"
      ],
      "metadata": {
        "id": "VpiDM63VEijy"
      },
      "execution_count": null,
      "outputs": []
    },
    {
      "cell_type": "markdown",
      "source": [
        "**Extracción de un subtexto**"
      ],
      "metadata": {
        "id": "yp8Ihq6DE3Iv"
      }
    },
    {
      "cell_type": "code",
      "source": [
        "texto = \"Precio: 250\"\n",
        "subTexto1 = texto[0:7]\n",
        "subTexto2 = texto[8:11]\n",
        "\n",
        "print(subTexto1)\n",
        "print(subTexto2)"
      ],
      "metadata": {
        "id": "WCWea8KDE3yw"
      },
      "execution_count": null,
      "outputs": []
    },
    {
      "cell_type": "markdown",
      "source": [
        "**Búsqueda de un carácter o subtexto**"
      ],
      "metadata": {
        "id": "kHNLmeR_E_xH"
      }
    },
    {
      "cell_type": "code",
      "source": [
        "mensaje = \"Hola, Grupo\"\n",
        "posO = mensaje.find(\"o\")\n",
        "posGrupo = mensaje.find(\"Grupo\")\n",
        "posZ = mensaje.find(\"Z\")\n",
        "\n",
        "print(posO)\n",
        "print(posGrupo)\n",
        "print(posZ)"
      ],
      "metadata": {
        "id": "u3AWnmtYFAeH"
      },
      "execution_count": null,
      "outputs": []
    },
    {
      "cell_type": "markdown",
      "source": [
        "**Función vs método**"
      ],
      "metadata": {
        "id": "l8Vv6XCbIZOz"
      }
    },
    {
      "cell_type": "code",
      "source": [
        "mensaje = \"Hola, Grupo\"\n",
        "posH = mensaje.find(\"H\")\n",
        "print(posH)\n",
        "\n",
        "edad = 28\n",
        "pos8 = edad.find(8)"
      ],
      "metadata": {
        "id": "CKMU_xSPIZ4V"
      },
      "execution_count": null,
      "outputs": []
    },
    {
      "cell_type": "markdown",
      "source": [
        "**Búsqueda de un carácter o subtexto basado en una posición inicial**"
      ],
      "metadata": {
        "id": "53XYc35vJpAM"
      }
    },
    {
      "cell_type": "code",
      "source": [
        "producto = \"Laser-100-20\"\n",
        "posGuion1 = producto.find(\"-\")\n",
        "posGuion2 = producto.find(\"-\", posGuion1+1)\n",
        "subTextoCantidad = producto[posGuion2+1:len(producto)]\n",
        "\n",
        "print(posGuion1)\n",
        "print(posGuion2)\n",
        "print(subTextoCantidad)"
      ],
      "metadata": {
        "id": "H-ZIgYB-JpvL"
      },
      "execution_count": null,
      "outputs": []
    },
    {
      "cell_type": "markdown",
      "source": [
        "**Otros métodos**"
      ],
      "metadata": {
        "id": "e1mgeQoiKGdS"
      }
    },
    {
      "cell_type": "code",
      "source": [
        "mensaje = \"Ubicación: provenza\"\n",
        "\n",
        "mensajeMinus = mensaje.lower() # retorna el texto en minúscula\n",
        "print(mensajeMinus)\n",
        "\n",
        "mensajeMayus = mensaje.upper() # retorna el texto en mayúscula\n",
        "print(mensajeMayus)\n",
        "\n",
        "conteo = mensaje.count(\"a\") # cuenta cantidad de \"a\"\n",
        "print(conteo)\n",
        "\n",
        "nuevoMensaje = mensaje.replace(\"a\", \"x\") # retorna reemplazando \"a\" por \"x\"\n",
        "print(nuevoMensaje)"
      ],
      "metadata": {
        "id": "4Y9eYC6sKHCS"
      },
      "execution_count": null,
      "outputs": []
    },
    {
      "cell_type": "markdown",
      "source": [
        "**Ciclos con textos**"
      ],
      "metadata": {
        "id": "wzI0Jgm8KnqB"
      }
    },
    {
      "cell_type": "code",
      "source": [
        "palabra = input(\"Ingrese una palabra: \")\n",
        "\n",
        "i = 0\n",
        "while(i < len(palabra)):\n",
        "  print(palabra[i])\n",
        "  i = i+1"
      ],
      "metadata": {
        "id": "dH-kD7OuKoOz"
      },
      "execution_count": null,
      "outputs": []
    },
    {
      "cell_type": "markdown",
      "source": [
        "**Ejercicio 1**"
      ],
      "metadata": {
        "id": "PlHcfmkfK6-K"
      }
    },
    {
      "cell_type": "code",
      "source": [
        "texto = input(\"Ingrese un texto: \")\n",
        "primero = texto[0]\n",
        "ultimo = texto[len(texto)-1]\n",
        "print(primero + ultimo)"
      ],
      "metadata": {
        "id": "isB0SoRrK7qa"
      },
      "execution_count": null,
      "outputs": []
    },
    {
      "cell_type": "markdown",
      "source": [
        "**Ejercicio 2**"
      ],
      "metadata": {
        "id": "cPrNZoI6LWYS"
      }
    },
    {
      "cell_type": "code",
      "source": [
        "texto = input(\"Ingrese un texto: \")\n",
        "posZ = texto.find(\"z\")\n",
        "if(posZ != -1):\n",
        "  print(\"Texto contiene letra z\")\n",
        "else:\n",
        "  print(\"Texto no contiene letra z\")"
      ],
      "metadata": {
        "id": "79SFGfw9LXiJ"
      },
      "execution_count": null,
      "outputs": []
    },
    {
      "cell_type": "markdown",
      "source": [
        "**Reto 1**"
      ],
      "metadata": {
        "id": "xo3qwF9lMppw"
      }
    },
    {
      "cell_type": "code",
      "source": [
        "texto = input(\"Ingrese un texto: \")\n",
        "primero = texto[0]\n",
        "segundo = texto[1]\n",
        "print(primero + segundo)"
      ],
      "metadata": {
        "id": "veNOQc5dMqs_"
      },
      "execution_count": null,
      "outputs": []
    },
    {
      "cell_type": "markdown",
      "source": [
        "**Reto 2**"
      ],
      "metadata": {
        "id": "rcD08oWSNbXf"
      }
    },
    {
      "cell_type": "code",
      "source": [
        "texto = input(\"Ingrese un texto: \")\n",
        "posA = texto.find(\"a\")\n",
        "if(posA != -1):\n",
        "  print(\"Texto con letra a\")\n",
        "else:\n",
        "  print(\"Texto sin letra a\")"
      ],
      "metadata": {
        "id": "AppXxpagNche"
      },
      "execution_count": null,
      "outputs": []
    }
  ]
}