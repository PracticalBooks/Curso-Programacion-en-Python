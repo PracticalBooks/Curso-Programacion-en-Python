{
  "nbformat": 4,
  "nbformat_minor": 0,
  "metadata": {
    "colab": {
      "provenance": []
    },
    "kernelspec": {
      "name": "python3",
      "display_name": "Python 3"
    },
    "language_info": {
      "name": "python"
    }
  },
  "cells": [
    {
      "cell_type": "markdown",
      "source": [
        "**Introducción**"
      ],
      "metadata": {
        "id": "vgZT7-KUPItx"
      }
    },
    {
      "cell_type": "code",
      "execution_count": null,
      "metadata": {
        "id": "8OceU_fd7KAQ"
      },
      "outputs": [],
      "source": [
        "print(\"Bienvenido a Python\")\n",
        "print(\"Bienvenido a Python\")\n",
        "print(\"Bienvenido a Python\")"
      ]
    },
    {
      "cell_type": "markdown",
      "source": [
        "**Ciclo while**"
      ],
      "metadata": {
        "id": "vK5zpaAsPg1D"
      }
    },
    {
      "cell_type": "code",
      "source": [
        "i = 1\n",
        "while(i <= 3):\n",
        "  print(\"Bienvenido a Python\")\n",
        "  i = i+1\n",
        "\n",
        "print(\"Fin programa\")"
      ],
      "metadata": {
        "id": "buUozHAGPh2D"
      },
      "execution_count": null,
      "outputs": []
    },
    {
      "cell_type": "markdown",
      "source": [
        "**Ejemplo de ciclo while con seguimiento paso a paso**"
      ],
      "metadata": {
        "id": "SyIKkVW57KqF"
      }
    },
    {
      "cell_type": "code",
      "source": [
        "i = 1\n",
        "while(i <= 5):\n",
        "  print(i)\n",
        "  i = i+1\n",
        "\n",
        "print(\"Fin programa\")"
      ],
      "metadata": {
        "id": "HKrg48KWRa18"
      },
      "execution_count": null,
      "outputs": []
    },
    {
      "cell_type": "markdown",
      "source": [
        "**Ejercicio 1**"
      ],
      "metadata": {
        "id": "Zb7f_JJpTY-J"
      }
    },
    {
      "cell_type": "code",
      "source": [
        "i = 5\n",
        "while(i <= 25):\n",
        "  print(i)\n",
        "  i = i+5"
      ],
      "metadata": {
        "id": "rVnvPPzpTbRV"
      },
      "execution_count": null,
      "outputs": []
    },
    {
      "cell_type": "markdown",
      "source": [
        "**Ejercicio 2**"
      ],
      "metadata": {
        "id": "8HHql4ETTl1N"
      }
    },
    {
      "cell_type": "code",
      "source": [
        "i = 10\n",
        "while(i >= 0):\n",
        "  print(i)\n",
        "  i = i-1"
      ],
      "metadata": {
        "id": "0omA8N8EToe9"
      },
      "execution_count": null,
      "outputs": []
    },
    {
      "cell_type": "markdown",
      "source": [
        "**Ejercicio 3**"
      ],
      "metadata": {
        "id": "As15zRg4Tx1W"
      }
    },
    {
      "cell_type": "code",
      "source": [
        "numero = int(input(\"Ingrese un número: \"))\n",
        "i = 1\n",
        "while(i <= numero):\n",
        "  print(\"Python es divertido\")\n",
        "  i = i+1"
      ],
      "metadata": {
        "id": "nimT1wENTz_n"
      },
      "execution_count": null,
      "outputs": []
    },
    {
      "cell_type": "markdown",
      "source": [
        "**Error 1**"
      ],
      "metadata": {
        "id": "KbPYitazT-I9"
      }
    },
    {
      "cell_type": "code",
      "source": [
        "i = 1\n",
        "while(i <= 5):\n",
        "  print(i)"
      ],
      "metadata": {
        "id": "bv_50tVZT_05"
      },
      "execution_count": null,
      "outputs": []
    },
    {
      "cell_type": "markdown",
      "source": [
        "**Error 2**"
      ],
      "metadata": {
        "id": "PU6TuariUMwH"
      }
    },
    {
      "cell_type": "code",
      "source": [
        "i = 1\n",
        "while(i <= 5):\n",
        "  print(i)\n",
        "i = i+1"
      ],
      "metadata": {
        "id": "74WTzU-DUOgG"
      },
      "execution_count": null,
      "outputs": []
    },
    {
      "cell_type": "markdown",
      "source": [
        "**Error 3**"
      ],
      "metadata": {
        "id": "gScfGEP7UVIx"
      }
    },
    {
      "cell_type": "code",
      "source": [
        "i = 1\n",
        "while(i >= 0):\n",
        "  print(i)\n",
        "  i = i+1"
      ],
      "metadata": {
        "id": "h2h126TiUXhz"
      },
      "execution_count": null,
      "outputs": []
    },
    {
      "cell_type": "markdown",
      "source": [
        "**Ciclos controlados por valor centinela**"
      ],
      "metadata": {
        "id": "-9HCdMFHVuRq"
      }
    },
    {
      "cell_type": "code",
      "source": [
        "nombre = \"\"\n",
        "while(nombre != \"Daniel\"):\n",
        "  nombre = input(\"Ingrese su nombre: \")\n",
        "\n",
        "print(\"Bienvenido\")"
      ],
      "metadata": {
        "id": "jXel0vjLVvq4"
      },
      "execution_count": null,
      "outputs": []
    },
    {
      "cell_type": "markdown",
      "source": [
        "**Instrucción break**"
      ],
      "metadata": {
        "id": "84Z1OLvgWkDR"
      }
    },
    {
      "cell_type": "code",
      "source": [
        "while(True):\n",
        "  capital = input(\"Ingrese la capital de Perú: \")\n",
        "  if(capital == \"Lima\"):\n",
        "    print(\"Felicidades ganaste la trivia\")\n",
        "    break\n",
        "\n",
        "print(\"Fin programa\")"
      ],
      "metadata": {
        "id": "jOffHaJMWmTC"
      },
      "execution_count": null,
      "outputs": []
    },
    {
      "cell_type": "markdown",
      "source": [
        "**Ejercicio 1**"
      ],
      "metadata": {
        "id": "4fq4__omW_S4"
      }
    },
    {
      "cell_type": "code",
      "source": [
        "numero = int(input(\"Ingrese un número: \"))\n",
        "i = 0\n",
        "while(i < numero):\n",
        "  print(\"****\")\n",
        "  i = i+1"
      ],
      "metadata": {
        "id": "hbIoJHxpXBAx"
      },
      "execution_count": null,
      "outputs": []
    },
    {
      "cell_type": "markdown",
      "source": [
        "**Ejercicio 2**"
      ],
      "metadata": {
        "id": "z_pWrR33XBOi"
      }
    },
    {
      "cell_type": "code",
      "source": [
        "while(True):\n",
        "  palabra = input(\"Ingrese una palabra: \")\n",
        "  if(palabra != \"Roberto\"):\n",
        "    print(\"Clave incorrecta\")\n",
        "  else:\n",
        "    print(\"Clave correcta\")\n",
        "    break"
      ],
      "metadata": {
        "id": "Tp74FX3sXCeQ"
      },
      "execution_count": null,
      "outputs": []
    },
    {
      "cell_type": "markdown",
      "source": [
        "**Reto de programación 7-1**"
      ],
      "metadata": {
        "id": "JZer8QhVX2yA"
      }
    },
    {
      "cell_type": "code",
      "source": [
        "i = 6\n",
        "while(i <= 14):\n",
        "  print(i)\n",
        "  i = i+1"
      ],
      "metadata": {
        "id": "oLArouHwX44o"
      },
      "execution_count": null,
      "outputs": []
    },
    {
      "cell_type": "markdown",
      "source": [
        "**Reto de programación 7-2**"
      ],
      "metadata": {
        "id": "6lF9CePIYES6"
      }
    },
    {
      "cell_type": "code",
      "source": [
        "i = 2\n",
        "while(i <= 20):\n",
        "  print(i)\n",
        "  i = i+2"
      ],
      "metadata": {
        "id": "5DBgDy-ZYGus"
      },
      "execution_count": null,
      "outputs": []
    },
    {
      "cell_type": "markdown",
      "source": [
        "**Reto de programación 7-3**"
      ],
      "metadata": {
        "id": "5kcaUyRpYMgZ"
      }
    },
    {
      "cell_type": "code",
      "source": [
        "i = 1\n",
        "while(i <= 8):\n",
        "  print(\"Bienvenido a Python\")\n",
        "  i = i+1"
      ],
      "metadata": {
        "id": "gfEeWlnDYPSh"
      },
      "execution_count": null,
      "outputs": []
    },
    {
      "cell_type": "markdown",
      "source": [
        "**Reto de programación 8**"
      ],
      "metadata": {
        "id": "VDgz4rkmX5Mz"
      }
    },
    {
      "cell_type": "code",
      "source": [
        "while(True):\n",
        "  palabra = input(\"Ingrese una palabra: \")\n",
        "  if(palabra == \"Salir\"):\n",
        "    break\n",
        "  else:\n",
        "    print(palabra)"
      ],
      "metadata": {
        "id": "T3xxT2QyX7Xh"
      },
      "execution_count": null,
      "outputs": []
    }
  ]
}