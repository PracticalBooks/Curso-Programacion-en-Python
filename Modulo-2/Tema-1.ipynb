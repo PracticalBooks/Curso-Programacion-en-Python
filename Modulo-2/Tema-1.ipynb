{
  "nbformat": 4,
  "nbformat_minor": 0,
  "metadata": {
    "colab": {
      "provenance": []
    },
    "kernelspec": {
      "name": "python3",
      "display_name": "Python 3"
    },
    "language_info": {
      "name": "python"
    }
  },
  "cells": [
    {
      "cell_type": "markdown",
      "source": [
        "**Definición de variable**"
      ],
      "metadata": {
        "id": "bERubEN0K9jj"
      }
    },
    {
      "cell_type": "code",
      "execution_count": null,
      "metadata": {
        "id": "bTusbTUhKwJX"
      },
      "outputs": [],
      "source": [
        "edad = 17"
      ]
    },
    {
      "cell_type": "markdown",
      "source": [
        "**Tipos de variables**"
      ],
      "metadata": {
        "id": "5APa56zQLNKv"
      }
    },
    {
      "cell_type": "code",
      "source": [
        "nombre = \"Maria\"\n",
        "edad = 17\n",
        "estatura = 1.61"
      ],
      "metadata": {
        "id": "u_Y0SxaxLNse"
      },
      "execution_count": null,
      "outputs": []
    },
    {
      "cell_type": "markdown",
      "source": [
        "**Impresión de variables**"
      ],
      "metadata": {
        "id": "BL2cTkhvLTbA"
      }
    },
    {
      "cell_type": "code",
      "source": [
        "nombre = \"Maria\"\n",
        "edad = 17\n",
        "estatura = 1.61\n",
        "\n",
        "print(nombre)\n",
        "print(edad)\n",
        "print(estatura)"
      ],
      "metadata": {
        "id": "vbMibwRjLUCQ"
      },
      "execution_count": null,
      "outputs": []
    },
    {
      "cell_type": "markdown",
      "source": [
        "**Definición errónea de variable**"
      ],
      "metadata": {
        "id": "BPwpEN9jXsEb"
      }
    },
    {
      "cell_type": "code",
      "source": [
        "edad = 17\n",
        "print(edadd)"
      ],
      "metadata": {
        "id": "mpDc6J0VXv_6"
      },
      "execution_count": null,
      "outputs": []
    },
    {
      "cell_type": "markdown",
      "source": [
        "**Modificando el valor de una variable**"
      ],
      "metadata": {
        "id": "TnHmOefsYgQy"
      }
    },
    {
      "cell_type": "code",
      "source": [
        "precioProducto = 150\n",
        "print(precioProducto)\n",
        "precioProducto = 250\n",
        "print(precioProducto)"
      ],
      "metadata": {
        "id": "vAUq2vTfYkCo"
      },
      "execution_count": null,
      "outputs": []
    },
    {
      "cell_type": "markdown",
      "source": [
        "**Modificando el valor y el tipo de una variable**"
      ],
      "metadata": {
        "id": "1IeVzeFgYzSG"
      }
    },
    {
      "cell_type": "code",
      "source": [
        "precioProducto = 150\n",
        "print(precioProducto)\n",
        "precioProducto = 250.5\n",
        "print(precioProducto)"
      ],
      "metadata": {
        "id": "7Aer1lUUY0Vf"
      },
      "execution_count": null,
      "outputs": []
    },
    {
      "cell_type": "markdown",
      "source": [
        "**Reutilizando variables para definir nuevas variables**"
      ],
      "metadata": {
        "id": "U436BflzbD5f"
      }
    },
    {
      "cell_type": "code",
      "source": [
        "edadLuis = 10\n",
        "edadLaura = 20\n",
        "sumaEdades = edadLuis + edadLaura\n",
        "promedioEdades = sumaEdades/2\n",
        "print(promedioEdades)"
      ],
      "metadata": {
        "id": "0E8dU6-ZbG8I"
      },
      "execution_count": null,
      "outputs": []
    },
    {
      "cell_type": "markdown",
      "source": [
        "**Función type**"
      ],
      "metadata": {
        "id": "6qu8q0n3bZHH"
      }
    },
    {
      "cell_type": "code",
      "source": [
        "precioProducto = 150\n",
        "print(type(precioProducto))\n",
        "precioProducto = 250.5\n",
        "print(type(precioProducto))"
      ],
      "metadata": {
        "id": "doOa0yRIbbMP"
      },
      "execution_count": null,
      "outputs": []
    },
    {
      "cell_type": "markdown",
      "source": [
        "**Comentarios en Python**"
      ],
      "metadata": {
        "id": "JDFCKy8tb6VM"
      }
    },
    {
      "cell_type": "code",
      "source": [
        "# La siguiente línea representa el salario mensual de una persona\n",
        "salario = 1000\n",
        "\n",
        "\"\"\" Dividiremos el salario entre 2, para repartirlo entre los integrantes\n",
        "de la familia y mostraremos el resultado por pantalla \"\"\"\n",
        "print(salario/2)"
      ],
      "metadata": {
        "id": "jOrKr1aAb8YL"
      },
      "execution_count": null,
      "outputs": []
    }
  ]
}