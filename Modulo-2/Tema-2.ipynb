{
  "nbformat": 4,
  "nbformat_minor": 0,
  "metadata": {
    "colab": {
      "provenance": []
    },
    "kernelspec": {
      "name": "python3",
      "display_name": "Python 3"
    },
    "language_info": {
      "name": "python"
    }
  },
  "cells": [
    {
      "cell_type": "markdown",
      "source": [
        "**Función input**"
      ],
      "metadata": {
        "id": "WMTGiosqoA87"
      }
    },
    {
      "cell_type": "code",
      "execution_count": null,
      "metadata": {
        "id": "faxtAQGPnxpd"
      },
      "outputs": [],
      "source": [
        "print(\"Ingrese su nombre\")\n",
        "nombre = input()\n",
        "print(\"Su nombre es:\")\n",
        "print(nombre)"
      ]
    },
    {
      "cell_type": "markdown",
      "source": [
        "**Función input – tipo por defecto (error)**"
      ],
      "metadata": {
        "id": "bQ5SaakqoJIJ"
      }
    },
    {
      "cell_type": "code",
      "source": [
        "edad = input(\"Ingrese su edad: \")\n",
        "mitadDeEdad = edad/2\n",
        "print(mitadDeEdad)"
      ],
      "metadata": {
        "id": "B12RSopeoKJg"
      },
      "execution_count": null,
      "outputs": []
    },
    {
      "cell_type": "markdown",
      "source": [
        "**Función int**"
      ],
      "metadata": {
        "id": "ZC_HPPhJp53A"
      }
    },
    {
      "cell_type": "code",
      "source": [
        "numStr = \"10\"\n",
        "print(type(numStr)) # Resultado str\n",
        "numInt = int(numStr)\n",
        "print(type(numInt)) # Resultado int"
      ],
      "metadata": {
        "id": "48d48pyGp7zv"
      },
      "execution_count": null,
      "outputs": []
    },
    {
      "cell_type": "markdown",
      "source": [
        "**Función float**"
      ],
      "metadata": {
        "id": "fM-EHOTsqdWf"
      }
    },
    {
      "cell_type": "code",
      "source": [
        "numStr = \"3.14\"\n",
        "print(type(numStr)) # Resultado str\n",
        "numFloat = float(numStr)\n",
        "print(type(numFloat)) # Resultado float"
      ],
      "metadata": {
        "id": "H8j-tZdgqgcP"
      },
      "execution_count": null,
      "outputs": []
    },
    {
      "cell_type": "markdown",
      "source": [
        "**Función str**"
      ],
      "metadata": {
        "id": "vkv5Ss8Bq9-P"
      }
    },
    {
      "cell_type": "code",
      "source": [
        "numInt = 42\n",
        "print(type(numInt)) # Resultado int\n",
        "numStr = str(numInt)\n",
        "print(type(numStr)) # Resultado str"
      ],
      "metadata": {
        "id": "5Kh4YCCZrAEH"
      },
      "execution_count": null,
      "outputs": []
    },
    {
      "cell_type": "markdown",
      "source": [
        "**Función input y conversión de tipo**"
      ],
      "metadata": {
        "id": "4vRgWpGvrc4_"
      }
    },
    {
      "cell_type": "code",
      "source": [
        "edad = int(input(\"Ingrese su edad: \"))\n",
        "mitadDeEdad = edad/2\n",
        "print(mitadDeEdad)"
      ],
      "metadata": {
        "id": "wGQKCG19rgjH"
      },
      "execution_count": null,
      "outputs": []
    },
    {
      "cell_type": "markdown",
      "source": [
        "**Funciones int, float y str**"
      ],
      "metadata": {
        "id": "8t5Ij9Mjr6dK"
      }
    },
    {
      "cell_type": "code",
      "source": [
        "edadPadre = input(\"Ingrese edad: \")\n",
        "edadMadre = int(input(\"Ingrese edad: \"))\n",
        "estaturaPadre = float(input(\"Ingrese estatura: \"))\n",
        "print(type(edadPadre))\n",
        "print(type(edadMadre))\n",
        "print(type(estaturaPadre))\n",
        "print(edadPadre)\n",
        "print(edadMadre)\n",
        "print(estaturaPadre)"
      ],
      "metadata": {
        "id": "6la3bzLGr7tv"
      },
      "execution_count": null,
      "outputs": []
    },
    {
      "cell_type": "markdown",
      "source": [
        "**Función print**"
      ],
      "metadata": {
        "id": "axxjAllas0M5"
      }
    },
    {
      "cell_type": "code",
      "source": [
        "nombre = \"Paola\"\n",
        "edad = 30\n",
        "print(\"Nombre: \")\n",
        "print(nombre)\n",
        "print(\"Edad: \")\n",
        "print(edad)"
      ],
      "metadata": {
        "id": "M9BkgcMxs1Z6"
      },
      "execution_count": null,
      "outputs": []
    },
    {
      "cell_type": "markdown",
      "source": [
        "**Concatenación de datos en salida por pantalla (error)**"
      ],
      "metadata": {
        "id": "W7urnd3KtJm9"
      }
    },
    {
      "cell_type": "code",
      "source": [
        "nombreProducto = \"Televisor\"\n",
        "precioProducto = 200\n",
        "print(\"Nombre: \"+nombreProducto)\n",
        "print(\"Precio: \"+precioProducto)"
      ],
      "metadata": {
        "id": "g8X6aXmatK9V"
      },
      "execution_count": null,
      "outputs": []
    },
    {
      "cell_type": "markdown",
      "source": [
        "**Concatenación de datos en salida por pantalla**"
      ],
      "metadata": {
        "id": "meTkQ1qwtcJP"
      }
    },
    {
      "cell_type": "code",
      "source": [
        "nombreProducto = \"Televisor\"\n",
        "precioProducto = 200\n",
        "print(\"Nombre: \"+nombreProducto)\n",
        "print(\"Precio: \"+str(precioProducto))"
      ],
      "metadata": {
        "id": "Pj71tk8itdZ2"
      },
      "execution_count": null,
      "outputs": []
    },
    {
      "cell_type": "markdown",
      "source": [
        "**Concatenación con comas**"
      ],
      "metadata": {
        "id": "Pi4WnlUIt0PX"
      }
    },
    {
      "cell_type": "code",
      "source": [
        "nombreProducto = \"Televisor\"\n",
        "precioProducto = 200\n",
        "print(\"Nombre:\",nombreProducto,\"- Precio:\",precioProducto)"
      ],
      "metadata": {
        "id": "AGpM8VQPt322"
      },
      "execution_count": null,
      "outputs": []
    },
    {
      "cell_type": "markdown",
      "source": [
        "**Ejercicio 1**"
      ],
      "metadata": {
        "id": "pNXNDA1fuOBi"
      }
    },
    {
      "cell_type": "code",
      "source": [
        "nombre = input(\"Ingrese el nombre: \")\n",
        "apellido = input(\"Ingrese el apellido: \")\n",
        "print(apellido + \" \" + nombre)"
      ],
      "metadata": {
        "id": "v3MQPnvSuPs_"
      },
      "execution_count": null,
      "outputs": []
    },
    {
      "cell_type": "markdown",
      "source": [
        "**Ejercicio 2**"
      ],
      "metadata": {
        "id": "uq2eutxgunHx"
      }
    },
    {
      "cell_type": "code",
      "source": [
        "anios = float(input(\"Ingrese el número de años: \"))\n",
        "mitadAnios = anios/2\n",
        "print(\"El asteroide caerá en: \" + str(mitadAnios) + \" años\")"
      ],
      "metadata": {
        "id": "y_1BN8cCuowI"
      },
      "execution_count": null,
      "outputs": []
    },
    {
      "cell_type": "markdown",
      "source": [
        "**Reto de programación 1**"
      ],
      "metadata": {
        "id": "mSSm1iO5vOt_"
      }
    },
    {
      "cell_type": "code",
      "source": [
        "edadRichard = 73\n",
        "edadJeff = 59\n",
        "edadElon = 52\n",
        "sumaEdades = edadRichard + edadJeff + edadElon\n",
        "promedioEdades = sumaEdades/3\n",
        "print(promedioEdades)"
      ],
      "metadata": {
        "id": "--FonIMsvQK-"
      },
      "execution_count": null,
      "outputs": []
    },
    {
      "cell_type": "markdown",
      "source": [
        "**Reto de programación 2**"
      ],
      "metadata": {
        "id": "1MLOWeP2vRD1"
      }
    },
    {
      "cell_type": "code",
      "source": [
        "nombre = input(\"Ingrese su nombre: \")\n",
        "edad = int(input(\"Ingrese su edad: \"))\n",
        "estatura = float(input(\"Ingrese su estatura: \"))\n",
        "\n",
        "print(\"Mi nombre es: \" + nombre)\n",
        "print(\"Mi edad es: \" + str(edad))\n",
        "print(\"Mi estatura es: \" + str(estatura))"
      ],
      "metadata": {
        "id": "5rGKPttIvSl1"
      },
      "execution_count": null,
      "outputs": []
    }
  ]
}