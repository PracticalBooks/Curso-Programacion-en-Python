{
  "nbformat": 4,
  "nbformat_minor": 0,
  "metadata": {
    "colab": {
      "provenance": []
    },
    "kernelspec": {
      "name": "python3",
      "display_name": "Python 3"
    },
    "language_info": {
      "name": "python"
    }
  },
  "cells": [
    {
      "cell_type": "markdown",
      "source": [
        "**Ejemplo de código para estructura if-then-else**"
      ],
      "metadata": {
        "id": "ZrIIu_WC0BA3"
      }
    },
    {
      "cell_type": "code",
      "source": [
        "temperatura = float(input(\"Ingrese la temperatura: \"))\n",
        "\n",
        "if(temperatura > 27):\n",
        "  print(\"Comprar helado\")\n",
        "else:\n",
        "  print(\"Comprar jugo de naranja\")\n",
        "\n",
        "print(\"Fin programa\")"
      ],
      "metadata": {
        "id": "5WScUgKe0B8w"
      },
      "execution_count": null,
      "outputs": []
    },
    {
      "cell_type": "markdown",
      "source": [
        "**Ejercicio área del cuadrado**"
      ],
      "metadata": {
        "id": "iCbNcdUQ0Nbi"
      }
    },
    {
      "cell_type": "code",
      "source": [
        "lado = float(input(\"Ingrese el lado del cuadrado: \"))\n",
        "\n",
        "if(lado > 0):\n",
        "  area = lado*lado\n",
        "  print(\"El área del cuadrado es: \"+str(area))\n",
        "else:\n",
        "  print(\"El lado de un cuadrado no puede ser negativo\")"
      ],
      "metadata": {
        "id": "i_vYFPJj0NqZ"
      },
      "execution_count": null,
      "outputs": []
    },
    {
      "cell_type": "markdown",
      "source": [
        "**Ejemplo de código para estructura if-then-elif-else**"
      ],
      "metadata": {
        "id": "sVx8_kTvyy_y"
      }
    },
    {
      "cell_type": "code",
      "execution_count": null,
      "metadata": {
        "id": "8dm-dqREx1Eb"
      },
      "outputs": [],
      "source": [
        "temperatura = float(input(\"Ingrese la temperatura: \"))\n",
        "\n",
        "if(temperatura > 27):\n",
        "  print(\"Comprar helado\")\n",
        "elif(temperatura < 15):\n",
        "  print(\"Comprar chocolate\")\n",
        "else:\n",
        "  print(\"Comprar jugo de naranja\")\n",
        "\n",
        "print(\"Fin programa\")"
      ]
    },
    {
      "cell_type": "markdown",
      "source": [
        "**Importancia del orden de las condiciones**"
      ],
      "metadata": {
        "id": "NDWOXM7nzkd4"
      }
    },
    {
      "cell_type": "code",
      "source": [
        "edad = int(input(\"Ingrese su edad: \"))\n",
        "\n",
        "if(edad >= 18):\n",
        "  print(\"Mayor de edad\")\n",
        "elif(edad >= 60):\n",
        "  print(\"Adulto mayor\")"
      ],
      "metadata": {
        "id": "4Y8MIlQfzoqh"
      },
      "execution_count": null,
      "outputs": []
    },
    {
      "cell_type": "markdown",
      "source": [
        "**Ejemplo de código para ejercicio “parque de diversiones”**"
      ],
      "metadata": {
        "id": "rShj3mUm1uWw"
      }
    },
    {
      "cell_type": "code",
      "source": [
        "tipoAtraccion = int(input(\"Ingrese el tipo 1) montaña 2) tren: \"))\n",
        "\n",
        "if(tipoAtraccion == 1):\n",
        "  estatura = float(input(\"Ingrese su estatura: \"))\n",
        "  if(estatura >= 1.61):\n",
        "    print(\"Diviértete en la montaña rusa\")\n",
        "  else:\n",
        "    print(\"Estatura no permitida\")\n",
        "elif(tipoAtraccion == 2):\n",
        "  print(\"Diviértete en el tren\")\n",
        "\n",
        "print(\"Fin programa\")"
      ],
      "metadata": {
        "id": "V3MVQb9C1wBZ"
      },
      "execution_count": null,
      "outputs": []
    },
    {
      "cell_type": "markdown",
      "source": [
        "**Ejemplo de código para ejercicio “parque de diversiones” (sin condicionales anidados)**"
      ],
      "metadata": {
        "id": "n3kQJW_u2wDw"
      }
    },
    {
      "cell_type": "code",
      "source": [
        "tipoAtraccion = int(input(\"Ingrese el tipo 1) montaña 2) tren: \"))\n",
        "estatura = float(input(\"Ingrese su estatura: \"))\n",
        "\n",
        "if(tipoAtraccion == 2):\n",
        "  print(\"Diviértete en el tren\")\n",
        "elif(tipoAtraccion == 1 and estatura >= 1.61):\n",
        "  print(\"Diviértete en la montaña rusa\")\n",
        "elif(tipoAtraccion == 1 and estatura < 1.61):\n",
        "  print(\"Estatura no permitida\")\n",
        "\n",
        "print(\"Fin programa\")"
      ],
      "metadata": {
        "id": "L80chRds2xDr"
      },
      "execution_count": null,
      "outputs": []
    },
    {
      "cell_type": "markdown",
      "source": [
        "**Ejercicio 1**"
      ],
      "metadata": {
        "id": "4-cnx0AN3AoQ"
      }
    },
    {
      "cell_type": "code",
      "source": [
        "generoMusical = input(\"Ingrese el género musical: \")\n",
        "if(generoMusical == \"Rock\"):\n",
        "  print(\"Tienes buen gusto\")\n",
        "else:\n",
        "  print(\"Qué asco\")"
      ],
      "metadata": {
        "id": "R5mtZRVV3CPY"
      },
      "execution_count": null,
      "outputs": []
    },
    {
      "cell_type": "markdown",
      "source": [
        "**Ejercicio 2**"
      ],
      "metadata": {
        "id": "plTZ0d7-3FYp"
      }
    },
    {
      "cell_type": "code",
      "source": [
        "nombre1 = input(\"Ingrese el nombre del candidato 1: \")\n",
        "votos1 = input(\"Ingrese los votos del candidato 1: \")\n",
        "nombre2 = input(\"Ingrese el nombre del candidato 2: \")\n",
        "votos2 = input(\"Ingrese los votos del candidato 2: \")\n",
        "\n",
        "if(votos1 > votos2):\n",
        "  print(nombre1)\n",
        "elif(votos2 > votos1):\n",
        "  print(nombre2)\n",
        "else:\n",
        "  print(\"Empate\")"
      ],
      "metadata": {
        "id": "LSOSxedu3G1Z"
      },
      "execution_count": null,
      "outputs": []
    },
    {
      "cell_type": "markdown",
      "source": [
        "**Reto de programación 5**"
      ],
      "metadata": {
        "id": "unzGtBK74Rtf"
      }
    },
    {
      "cell_type": "code",
      "source": [
        "votosValidos = int(input(\"Ingrese la cantidad de votos válidos: \"))\n",
        "votosMiPartido = int(input(\"Ingrese la cantidad de votos de su partido: \"))\n",
        "umbral = votosValidos*0.03\n",
        "\n",
        "if(votosMiPartido > umbral):\n",
        "  print(\"Tu partido tendrá curules\")\n",
        "else:\n",
        "  print(\"Se quemaron\")"
      ],
      "metadata": {
        "id": "U4Qa0FEm4T2g"
      },
      "execution_count": null,
      "outputs": []
    },
    {
      "cell_type": "markdown",
      "source": [
        "**Reto de programación 6**"
      ],
      "metadata": {
        "id": "6w9dbExd4UDm"
      }
    },
    {
      "cell_type": "code",
      "source": [
        "anio = int(input(\"Ingrese el año de nacimiento: \"))\n",
        "\n",
        "if(anio >= 1994) and (anio <= 2010):\n",
        "  print(\"Eres Generación Z\")\n",
        "elif(anio >= 1981) and (anio <= 1993):\n",
        "  print(\"Eres Millennial\")\n",
        "else:\n",
        "  print(\"Eres de otra generación\")"
      ],
      "metadata": {
        "id": "H28cLQma4WhO"
      },
      "execution_count": null,
      "outputs": []
    }
  ]
}