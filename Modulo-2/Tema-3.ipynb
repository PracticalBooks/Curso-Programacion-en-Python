{
  "nbformat": 4,
  "nbformat_minor": 0,
  "metadata": {
    "colab": {
      "provenance": []
    },
    "kernelspec": {
      "name": "python3",
      "display_name": "Python 3"
    },
    "language_info": {
      "name": "python"
    }
  },
  "cells": [
    {
      "cell_type": "markdown",
      "source": [
        "**Área del cuadrado**\n"
      ],
      "metadata": {
        "id": "SR6sRw9-04dp"
      }
    },
    {
      "cell_type": "code",
      "execution_count": null,
      "metadata": {
        "id": "Ym-UDGUnytxw"
      },
      "outputs": [],
      "source": [
        "lado = float(input(\"Ingrese el lado del cuadrado: \"))\n",
        "area = lado*lado\n",
        "print(\"El área del cuadrado es: \" + str(area))"
      ]
    },
    {
      "cell_type": "markdown",
      "source": [
        "**Variables booleanas**"
      ],
      "metadata": {
        "id": "oFN7bunj04Hj"
      }
    },
    {
      "cell_type": "code",
      "source": [
        "tengoHijos = True\n",
        "print(type(tengoHijos))\n",
        "print(tengoHijos)"
      ],
      "metadata": {
        "id": "Ow5D8kpt1bsX"
      },
      "execution_count": null,
      "outputs": []
    },
    {
      "cell_type": "markdown",
      "source": [
        "**Uso del operador and**"
      ],
      "metadata": {
        "id": "OrXumTKh03ze"
      }
    },
    {
      "cell_type": "code",
      "source": [
        "edad = 18\n",
        "nombre = \"Paola\"\n",
        "\n",
        "resultado = (edad == 18) and (nombre == \"Paola\")\n",
        "print(resultado)"
      ],
      "metadata": {
        "id": "3UwtHx1R3Z4q"
      },
      "execution_count": null,
      "outputs": []
    },
    {
      "cell_type": "markdown",
      "source": [
        "**Ejemplo de código para estructura if-then**"
      ],
      "metadata": {
        "id": "oGzqjZTe5sEi"
      }
    },
    {
      "cell_type": "code",
      "source": [
        "temperatura = float(input(\"Ingrese la temperatura: \"))\n",
        "\n",
        "if(temperatura > 27):\n",
        "  print(\"Comprar helado\")\n",
        "\n",
        "print(\"Fin programa\")"
      ],
      "metadata": {
        "id": "OVy4a6oU5uzS"
      },
      "execution_count": null,
      "outputs": []
    },
    {
      "cell_type": "markdown",
      "source": [
        "**Ejercicio malteada (erróneo)**"
      ],
      "metadata": {
        "id": "wyXNbagoSW1J"
      }
    },
    {
      "cell_type": "code",
      "source": [
        "temperatura = float(input(\"Ingrese la temperatura: \"))\n",
        "\n",
        "if(temperatura > 27):\n",
        "  print(\"Comprar helado\")\n",
        "print(\"Comprar malteada\")\n",
        "\n",
        "print(\"Fin programa\")"
      ],
      "metadata": {
        "id": "kIwQpO65SY8E"
      },
      "execution_count": null,
      "outputs": []
    },
    {
      "cell_type": "markdown",
      "source": [
        "**Ejercicio malteada**"
      ],
      "metadata": {
        "id": "4HYjvaEzSwLK"
      }
    },
    {
      "cell_type": "code",
      "source": [
        "temperatura = float(input(\"Ingrese la temperatura: \"))\n",
        "\n",
        "if(temperatura > 27):\n",
        "  print(\"Comprar helado\")\n",
        "  print(\"Comprar malteada\")\n",
        "\n",
        "print(\"Fin programa\")"
      ],
      "metadata": {
        "id": "6PiwF4diSykI"
      },
      "execution_count": null,
      "outputs": []
    },
    {
      "cell_type": "markdown",
      "source": [
        "**Flujo de ejecución del programa**"
      ],
      "metadata": {
        "id": "1Pc4_uhmT-pc"
      }
    },
    {
      "cell_type": "code",
      "source": [
        "temperatura = float(input(\"Ingrese la temperatura: \"))\n",
        "dinero = int(input(\"Ingrese el dinero: \"))\n",
        "\n",
        "if(temperatura > 27) and (dinero >= 5):\n",
        "  print(\"Comprar helado\")\n",
        "\n",
        "print(\"Fin programa\")"
      ],
      "metadata": {
        "id": "RUFKxAvqUAb4"
      },
      "execution_count": null,
      "outputs": []
    },
    {
      "cell_type": "markdown",
      "source": [
        "**Ejercicio 1**"
      ],
      "metadata": {
        "id": "7PmxLHYRV6hE"
      }
    },
    {
      "cell_type": "code",
      "source": [
        "distancia = float(input(\"Ingrese la distancia: \"))\n",
        "if(distancia <=4):\n",
        "  print(\"Ya voy corriendo\")"
      ],
      "metadata": {
        "id": "l59_DuU7V8EP"
      },
      "execution_count": null,
      "outputs": []
    },
    {
      "cell_type": "markdown",
      "source": [
        "**Ejercicio 2**"
      ],
      "metadata": {
        "id": "RReeM8WCV_hI"
      }
    },
    {
      "cell_type": "code",
      "source": [
        "jugador = int(input(\"Ingrese el número de la camiseta: \"))\n",
        "if(jugador == 19):\n",
        "  print(\"¡Andá pa' allá, bobo!\")"
      ],
      "metadata": {
        "id": "VH-fZ67vWDso"
      },
      "execution_count": null,
      "outputs": []
    },
    {
      "cell_type": "markdown",
      "source": [
        "**Ejercicio 3**"
      ],
      "metadata": {
        "id": "vrodONUEV_nP"
      }
    },
    {
      "cell_type": "code",
      "source": [
        "magnitud = float(input(\"Ingrese la magnitud: \"))\n",
        "if(magnitud >= 5.2):\n",
        "  print(\"Alerta de tsunami\")"
      ],
      "metadata": {
        "id": "W_b85C5sWEIg"
      },
      "execution_count": null,
      "outputs": []
    },
    {
      "cell_type": "markdown",
      "source": [
        "**Reto de programación 3**"
      ],
      "metadata": {
        "id": "xXesFDGrXbqu"
      }
    },
    {
      "cell_type": "code",
      "source": [
        "edad = int(input(\"Ingrese su edad: \"))\n",
        "if(edad >= 18):\n",
        "  print(\"Bienvenido a la discoteca\")"
      ],
      "metadata": {
        "id": "b7iGG1lTXeAk"
      },
      "execution_count": null,
      "outputs": []
    },
    {
      "cell_type": "markdown",
      "source": [
        "**Reto de programación 4**"
      ],
      "metadata": {
        "id": "vYM8gt86XeVG"
      }
    },
    {
      "cell_type": "code",
      "source": [
        "edad = int(input(\"Ingrese su edad: \"))\n",
        "salario = float(input(\"Ingrese su salario: \"))\n",
        "if(edad >= 15) and (salario > 400000):\n",
        "  print(\"Te otorgaremos una tarjeta de crédito\")"
      ],
      "metadata": {
        "id": "fD7HzUVmXgSp"
      },
      "execution_count": null,
      "outputs": []
    }
  ]
}