{
  "nbformat": 4,
  "nbformat_minor": 0,
  "metadata": {
    "colab": {
      "provenance": []
    },
    "kernelspec": {
      "name": "python3",
      "display_name": "Python 3"
    },
    "language_info": {
      "name": "python"
    }
  },
  "cells": [
    {
      "cell_type": "markdown",
      "source": [
        "**Lectura de datos del dataset**"
      ],
      "metadata": {
        "id": "KABGmODiWKKc"
      }
    },
    {
      "cell_type": "code",
      "execution_count": null,
      "metadata": {
        "id": "RrEiTb_kVz_c"
      },
      "outputs": [],
      "source": [
        "archivoCanciones = open(\"canciones.csv\")\n",
        "contenidoPorLineas = archivoCanciones.readlines()\n",
        "\n",
        "i = 1\n",
        "while(i < len(contenidoPorLineas)):\n",
        "  lineaLimpia = contenidoPorLineas[i].strip()\n",
        "  datosCancion = lineaLimpia.split(\",\")\n",
        "  print(datosCancion[1])\n",
        "  i = i+1"
      ]
    },
    {
      "cell_type": "markdown",
      "source": [
        "**Lectura de datos del dataset con condicionales**"
      ],
      "metadata": {
        "id": "3dBNrQnZWQpz"
      }
    },
    {
      "cell_type": "code",
      "source": [
        "archivoCanciones = open(\"canciones.csv\")\n",
        "contenidoPorLineas = archivoCanciones.readlines()\n",
        "\n",
        "i = 1\n",
        "while(i < len(contenidoPorLineas)):\n",
        "  lineaLimpia = contenidoPorLineas[i].strip()\n",
        "  datosCancion = lineaLimpia.split(\",\")\n",
        "  if(datosCancion[0] == \"Britney Spears\"):\n",
        "    print(datosCancion[1])\n",
        "  i = i+1"
      ],
      "metadata": {
        "id": "d76hJKbKWT2M"
      },
      "execution_count": null,
      "outputs": []
    },
    {
      "cell_type": "markdown",
      "source": [
        "**Reto 2.i**"
      ],
      "metadata": {
        "id": "yw2FKv8TWeH8"
      }
    },
    {
      "cell_type": "code",
      "source": [
        "archivoCanciones = open(\"canciones.csv\")\n",
        "contenidoPorLineas = archivoCanciones.readlines()\n",
        "\n",
        "i = 1\n",
        "while(i < len(contenidoPorLineas)):\n",
        "  lineaLimpia = contenidoPorLineas[i].strip()\n",
        "  datosCancion = lineaLimpia.split(\",\")\n",
        "  if(int(datosCancion[4]) == 2000):\n",
        "    print(datosCancion[1])\n",
        "  i = i+1"
      ],
      "metadata": {
        "id": "fjDZLbthWfIc"
      },
      "execution_count": null,
      "outputs": []
    },
    {
      "cell_type": "markdown",
      "source": [
        "**Reto 2.ii**"
      ],
      "metadata": {
        "id": "ksXTuvBdWpHN"
      }
    },
    {
      "cell_type": "code",
      "source": [
        "archivoCanciones = open(\"canciones.csv\")\n",
        "contenidoPorLineas = archivoCanciones.readlines()\n",
        "\n",
        "i = 1\n",
        "while(i < len(contenidoPorLineas)):\n",
        "  lineaLimpia = contenidoPorLineas[i].strip()\n",
        "  datosCancion = lineaLimpia.split(\",\")\n",
        "  if(datosCancion[0] == \"Eminem\"):\n",
        "    print(datosCancion[1])\n",
        "  i = i+1"
      ],
      "metadata": {
        "id": "GrZoDfv1WpsD"
      },
      "execution_count": null,
      "outputs": []
    },
    {
      "cell_type": "markdown",
      "source": [
        "**Reto 2.iii**"
      ],
      "metadata": {
        "id": "Qk-_bZlrWqF8"
      }
    },
    {
      "cell_type": "code",
      "source": [
        "archivoCanciones = open(\"canciones.csv\")\n",
        "contenidoPorLineas = archivoCanciones.readlines()\n",
        "\n",
        "i = 1\n",
        "while(i < len(contenidoPorLineas)):\n",
        "  lineaLimpia = contenidoPorLineas[i].strip()\n",
        "  datosCancion = lineaLimpia.split(\",\")\n",
        "  if(datosCancion[1][0] == \"D\"):\n",
        "    print(datosCancion[1])\n",
        "  i = i+1"
      ],
      "metadata": {
        "id": "VRqfvpX1Wqs1"
      },
      "execution_count": null,
      "outputs": []
    },
    {
      "cell_type": "markdown",
      "source": [
        "**Reto 2.iv**"
      ],
      "metadata": {
        "id": "nfDEUN9bWqz7"
      }
    },
    {
      "cell_type": "code",
      "source": [
        "archivoCanciones = open(\"canciones.csv\")\n",
        "contenidoPorLineas = archivoCanciones.readlines()\n",
        "\n",
        "contador = 0\n",
        "i = 1\n",
        "while(i < len(contenidoPorLineas)):\n",
        "  lineaLimpia = contenidoPorLineas[i].strip()\n",
        "  datosCancion = lineaLimpia.split(\",\")\n",
        "  if(int(datosCancion[2]) > 400000):\n",
        "    contador = contador+1\n",
        "  i = i+1\n",
        "\n",
        "print(contador)"
      ],
      "metadata": {
        "id": "RrRwHm3RWrrk"
      },
      "execution_count": null,
      "outputs": []
    },
    {
      "cell_type": "markdown",
      "source": [
        "**Reto 2.v**"
      ],
      "metadata": {
        "id": "R7RN-GYyW3Jk"
      }
    },
    {
      "cell_type": "code",
      "source": [
        "\n",
        "archivoCanciones = open(\"canciones.csv\")\n",
        "contenidoPorLineas = archivoCanciones.readlines()\n",
        "\n",
        "acumulador = 0\n",
        "\n",
        "i = 1\n",
        "while(i < len(contenidoPorLineas)):\n",
        "  lineaLimpia = contenidoPorLineas[i].strip()\n",
        "  datosCancion = lineaLimpia.split(\",\")\n",
        "  acumulador = acumulador+int(datosCancion[5])\n",
        "  i = i+1\n",
        "\n",
        "promedio = acumulador/(len(contenidoPorLineas)-1) # menos 1 por la cabecera de las columnas\n",
        "print(promedio)"
      ],
      "metadata": {
        "id": "3MjCvCq2W3Sc"
      },
      "execution_count": null,
      "outputs": []
    }
  ]
}