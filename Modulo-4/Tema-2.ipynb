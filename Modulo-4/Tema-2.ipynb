{
  "nbformat": 4,
  "nbformat_minor": 0,
  "metadata": {
    "colab": {
      "provenance": []
    },
    "kernelspec": {
      "name": "python3",
      "display_name": "Python 3"
    },
    "language_info": {
      "name": "python"
    }
  },
  "cells": [
    {
      "cell_type": "markdown",
      "source": [
        "**Archivo ahorros.txt**"
      ],
      "metadata": {
        "id": "PWZyYL5aUKMm"
      }
    },
    {
      "cell_type": "code",
      "execution_count": null,
      "metadata": {
        "id": "69iupUhfTigu"
      },
      "outputs": [],
      "source": [
        "150,30,1200"
      ]
    },
    {
      "cell_type": "markdown",
      "source": [
        "**Abrir archivo en código**"
      ],
      "metadata": {
        "id": "NpBuQGT3UWaP"
      }
    },
    {
      "cell_type": "code",
      "source": [
        "archivoAhorros = open(\"ahorros.txt\")"
      ],
      "metadata": {
        "id": "_9_GAVtIUXKu"
      },
      "execution_count": null,
      "outputs": []
    },
    {
      "cell_type": "markdown",
      "source": [
        "**Leer información de archivos**"
      ],
      "metadata": {
        "id": "I8mwhdR2Ud1l"
      }
    },
    {
      "cell_type": "code",
      "source": [
        "archivoAhorros = open(\"ahorros.txt\")\n",
        "contenidoArchivo = archivoAhorros.read()\n",
        "\n",
        "print(contenidoArchivo)"
      ],
      "metadata": {
        "id": "CVP0IzZlUeZn"
      },
      "execution_count": null,
      "outputs": []
    },
    {
      "cell_type": "markdown",
      "source": [
        "**Separar información por comas**"
      ],
      "metadata": {
        "id": "vCsMuhRVUj1f"
      }
    },
    {
      "cell_type": "code",
      "source": [
        "archivoAhorros = open(\"ahorros.txt\")\n",
        "contenidoArchivo = archivoAhorros.read()\n",
        "ahorros = contenidoArchivo.split(\",\")\n",
        "\n",
        "print(ahorros)\n",
        "print(len(ahorros))\n",
        "print(ahorros[0])"
      ],
      "metadata": {
        "id": "kZu8o5_PUk5H"
      },
      "execution_count": null,
      "outputs": []
    },
    {
      "cell_type": "markdown",
      "source": [
        "**Archivo clientes.txt**"
      ],
      "metadata": {
        "id": "oFobypV-UsCP"
      }
    },
    {
      "cell_type": "code",
      "source": [
        "Carlos,Cardona,41\n",
        "Veronica,Calderon,24\n",
        "Sara,Saldarriaga,30"
      ],
      "metadata": {
        "id": "OLgrv_DvUsre"
      },
      "execution_count": null,
      "outputs": []
    },
    {
      "cell_type": "markdown",
      "source": [
        "**Lectura por líneas**"
      ],
      "metadata": {
        "id": "mrl2GhniUx0G"
      }
    },
    {
      "cell_type": "code",
      "source": [
        "archivoClientes = open(\"clientes.txt\")\n",
        "contenidoPorLineas = archivoClientes.readlines()\n",
        "\n",
        "for linea in contenidoPorLineas:\n",
        "  lineaLimpia = linea.strip()\n",
        "  datosCliente = lineaLimpia.split(\",\")\n",
        "  print(\"Nombre: \"+datosCliente[0])\n",
        "  print(\"Apellido: \"+datosCliente[1])\n",
        "  print(\"Edad: \"+datosCliente[2])"
      ],
      "metadata": {
        "id": "4F3uQ1fDUyUP"
      },
      "execution_count": null,
      "outputs": []
    },
    {
      "cell_type": "markdown",
      "source": [
        "**Escribir información en archivos**"
      ],
      "metadata": {
        "id": "KESXx0E4U7KN"
      }
    },
    {
      "cell_type": "code",
      "source": [
        "archivoAhorros = open(\"ahorros.txt\")\n",
        "contenidoArchivo = archivoAhorros.read()\n",
        "\n",
        "archivoAhorrosW = open(\"ahorros.txt\", \"w\")\n",
        "nuevoAhorro = input(\"Ingrese el ahorro de la semana: \")\n",
        "nuevoContenido = contenidoArchivo + \",\" + nuevoAhorro\n",
        "\n",
        "archivoAhorrosW.write(nuevoContenido)\n",
        "archivoAhorrosW.close()"
      ],
      "metadata": {
        "id": "sjnEv2exU7v2"
      },
      "execution_count": null,
      "outputs": []
    },
    {
      "cell_type": "markdown",
      "source": [
        "**Open con error**"
      ],
      "metadata": {
        "id": "XTY3AL26VSU2"
      }
    },
    {
      "cell_type": "code",
      "source": [
        "archivoAhorros = open(\"ahorros.txt\", \"x\")\n",
        "contenidoArchivo = archivoAhorros.read()\n",
        "\n",
        "print(contenidoArchivo)"
      ],
      "metadata": {
        "id": "4vUy5EHGVUcc"
      },
      "execution_count": null,
      "outputs": []
    }
  ]
}