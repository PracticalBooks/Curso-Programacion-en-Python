{
  "nbformat": 4,
  "nbformat_minor": 0,
  "metadata": {
    "colab": {
      "provenance": []
    },
    "kernelspec": {
      "name": "python3",
      "display_name": "Python 3"
    },
    "language_info": {
      "name": "python"
    }
  },
  "cells": [
    {
      "cell_type": "markdown",
      "source": [
        "**PyPlot con función plot**"
      ],
      "metadata": {
        "id": "37emclvfY4MF"
      }
    },
    {
      "cell_type": "code",
      "execution_count": null,
      "metadata": {
        "id": "xPLT7saXYc26"
      },
      "outputs": [],
      "source": [
        "import matplotlib.pyplot as plt\n",
        "\n",
        "# x representa los años\n",
        "x = [2012, 2013, 2014, 2015, 2016, 2017]\n",
        "# y representa el dinero ahorrado\n",
        "y = [0, 50, 70, 70, 100, 246]\n",
        "\n",
        "plt.plot(x, y)\n",
        "plt.xlabel(\"Año\")\n",
        "plt.ylabel(\"Ahorro (dólares)\")\n",
        "plt.show()"
      ]
    },
    {
      "cell_type": "markdown",
      "source": [
        "**Aplicar colores y marcadores con PyPlot - 1**"
      ],
      "metadata": {
        "id": "PqCV5cANZKcZ"
      }
    },
    {
      "cell_type": "code",
      "source": [
        "import matplotlib.pyplot as plt\n",
        "\n",
        "\"\"\"ahorroPersona1 representa el dinero ahorrado\n",
        "    por una persona (línea azul)\"\"\"\n",
        "ahorroPersona1 = [0, 50, 70, 70, 100, 246]\n",
        "\n",
        "\"\"\"ahorroPersona2 representa el dinero ahorrado\n",
        "    por otra persona (línea naranja)\"\"\"\n",
        "ahorroPersona2 = [50, 60, 80, 100, 150, 180]\n",
        "\n",
        "# años en los que se ha hecho el ahorro\n",
        "anios = [2012, 2013, 2014, 2015, 2016, 2017]\n",
        "\n",
        "plt.plot(anios, ahorroPersona1)\n",
        "plt.plot(anios, ahorroPersona2)\n",
        "\n",
        "plt.xlabel(\"Año\")\n",
        "plt.ylabel(\"Ahorro (dólares)\")\n",
        "plt.show()"
      ],
      "metadata": {
        "id": "OxdsDJHuZKha"
      },
      "execution_count": null,
      "outputs": []
    },
    {
      "cell_type": "markdown",
      "source": [
        "**Aplicar colores y marcadores con PyPlot - 2**"
      ],
      "metadata": {
        "id": "WJEGfwEuZO46"
      }
    },
    {
      "cell_type": "code",
      "source": [
        "import matplotlib.pyplot as plt\n",
        "\n",
        "\"\"\"ahorroPersona1 representa el dinero ahorrado\n",
        "    por una persona (línea turquesa - color web)\"\"\"\n",
        "ahorroPersona1 = [0, 50, 70, 70, 100, 246]\n",
        "\n",
        "\"\"\"ahorroPersona2 representa el dinero ahorrado\n",
        "    por otra persona (línea roja)\"\"\"\n",
        "ahorroPersona2 = [50, 60, 80, 100, 150, 180]\n",
        "\n",
        "# años en los que se ha hecho el ahorro\n",
        "anios = [2012, 2013, 2014, 2015, 2016, 2017]\n",
        "\n",
        "plt.plot(anios, ahorroPersona1, color=\"MediumTurquoise\")\n",
        "plt.plot(anios, ahorroPersona2, color=\"red\")\n",
        "\n",
        "plt.xlabel(\"Año\")\n",
        "plt.ylabel(\"Ahorro (dólares)\")\n",
        "plt.show()"
      ],
      "metadata": {
        "id": "57OfIvs4ZPZS"
      },
      "execution_count": null,
      "outputs": []
    },
    {
      "cell_type": "markdown",
      "source": [
        "**Parámetro marker**"
      ],
      "metadata": {
        "id": "blcI8o0KZXNa"
      }
    },
    {
      "cell_type": "code",
      "source": [
        "import matplotlib.pyplot as plt\n",
        "\n",
        "# x representa los años\n",
        "x = [2012, 2013, 2014, 2015, 2016, 2017]\n",
        "# y representa el dinero ahorrado\n",
        "y = [0, 50, 70, 70, 100, 246]\n",
        "\n",
        "plt.plot(x, y, color=\"purple\", marker=\"D\")\n",
        "plt.xlabel(\"Año\")\n",
        "plt.ylabel(\"Ahorro (dólares)\")"
      ],
      "metadata": {
        "id": "e9i5tZ_uZaPy"
      },
      "execution_count": null,
      "outputs": []
    },
    {
      "cell_type": "markdown",
      "source": [
        "**PyPlot con función bar**"
      ],
      "metadata": {
        "id": "1vyJpL1_Zkpi"
      }
    },
    {
      "cell_type": "code",
      "source": [
        "import matplotlib.pyplot as plt\n",
        "\n",
        "# x representa los años\n",
        "x = [2017, 2018, 2019, 2020, 2021]\n",
        "# y representa los terremotos\n",
        "y = [1566, 1808, 1637, 1433, 2206]\n",
        "\n",
        "plt.bar(x, y)\n",
        "plt.xlabel(\"Año\")\n",
        "plt.ylabel(\"Terremotos\")\n",
        "plt.show()"
      ],
      "metadata": {
        "id": "fnKuhPhqZli6"
      },
      "execution_count": null,
      "outputs": []
    },
    {
      "cell_type": "markdown",
      "source": [
        "**Personalización de gráficas**"
      ],
      "metadata": {
        "id": "X2BrNmHYZvrI"
      }
    },
    {
      "cell_type": "code",
      "source": [
        "import matplotlib.pyplot as plt\n",
        "\n",
        "# x representa los años\n",
        "x = [2017, 2018, 2019, 2020, 2021]\n",
        "# y representa los terremotos\n",
        "y = [1566, 1808, 1637, 1433, 2206]\n",
        "\n",
        "plt.bar(x, y, width=0.4, color=\"green\", align=\"edge\")\n",
        "plt.title('Número de terremotos por año')\n",
        "plt.xlabel(\"Año\")\n",
        "plt.ylabel(\"Terremotos\")\n",
        "plt.show()"
      ],
      "metadata": {
        "id": "gAFPa_ezZyXh"
      },
      "execution_count": null,
      "outputs": []
    },
    {
      "cell_type": "markdown",
      "source": [
        "**Personalización de gráficas - colores**"
      ],
      "metadata": {
        "id": "LgCg68jZZ5iq"
      }
    },
    {
      "cell_type": "code",
      "source": [
        "import matplotlib.pyplot as plt\n",
        "\n",
        "# x representa los años\n",
        "x = [2017, 2018, 2019, 2020, 2021]\n",
        "# y representa los terremotos\n",
        "y = [1566, 1808, 1637, 1433, 2206]\n",
        "\n",
        "colores = [\"olive\", \"red\", \"gray\", \"green\", \"blue\"]\n",
        "\n",
        "plt.bar(x, y, color=colores, alpha=0.25)\n",
        "plt.xlabel(\"Año\")\n",
        "plt.ylabel(\"Terremotos\")\n",
        "plt.show()"
      ],
      "metadata": {
        "id": "-QbtxK01Z6DK"
      },
      "execution_count": null,
      "outputs": []
    },
    {
      "cell_type": "markdown",
      "source": [
        "**Personalización de gráficas - apiladas**"
      ],
      "metadata": {
        "id": "rK-3XXUfaC2C"
      }
    },
    {
      "cell_type": "code",
      "source": [
        "import matplotlib.pyplot as plt\n",
        "\n",
        "# x representa los años\n",
        "x = [2017, 2018, 2019, 2020, 2021]\n",
        "# y representa los terremotos\n",
        "y = [1566, 1808, 1637, 1433, 2206]\n",
        "# z representa las inundaciones\n",
        "z = [100, 200, 897, 87, 985]\n",
        "\n",
        "plt.bar(x, y)\n",
        "plt.bar(x, z, bottom=y)\n",
        "plt.xlabel(\"Año\")\n",
        "plt.ylabel(\"Terremotos\")\n",
        "plt.show()"
      ],
      "metadata": {
        "id": "tRGIUdanaC7p"
      },
      "execution_count": null,
      "outputs": []
    },
    {
      "cell_type": "markdown",
      "source": [
        "**Personalización de gráficas - edgecolor y linewidth**"
      ],
      "metadata": {
        "id": "-x-swtMHaUXA"
      }
    },
    {
      "cell_type": "code",
      "source": [
        "import matplotlib.pyplot as plt\n",
        "\n",
        "# x representa los años\n",
        "x = [2017, 2018, 2019, 2020, 2021]\n",
        "# y representa los terremotos\n",
        "y = [1566, 1808, 1637, 1433, 2206]\n",
        "# z representa las inundaciones\n",
        "z = [100, 200, 897, 87, 985]\n",
        "\n",
        "plt.bar(x, y, edgecolor=\"black\", linewidth=2)\n",
        "plt.bar(x, z, bottom=y, edgecolor=\"black\", linewidth=2)\n",
        "plt.xlabel(\"Año\")\n",
        "plt.ylabel(\"Terremotos\")\n",
        "plt.show()"
      ],
      "metadata": {
        "id": "dML0r6IbaaHj"
      },
      "execution_count": null,
      "outputs": []
    },
    {
      "cell_type": "markdown",
      "source": [
        "**Personalización de gráficas - label y legend**"
      ],
      "metadata": {
        "id": "KnDbOT23ah_i"
      }
    },
    {
      "cell_type": "code",
      "source": [
        "import matplotlib.pyplot as plt\n",
        "\n",
        "# x representa los años\n",
        "x = [2017, 2018, 2019, 2020, 2021]\n",
        "# y representa los terremotos\n",
        "y = [1566, 1808, 1637, 1433, 2206]\n",
        "# z representa las inundaciones\n",
        "z = [100, 200, 897, 87, 985]\n",
        "\n",
        "plt.bar(x, y, label=\"Terremotos\")\n",
        "plt.bar(x, z, bottom=y, label=\"Inundaciones\")\n",
        "plt.xlabel(\"Año\")\n",
        "plt.ylabel(\"Terremotos\")\n",
        "plt.legend(loc='upper center')\n",
        "plt.show()"
      ],
      "metadata": {
        "id": "hsFk2bCQakUA"
      },
      "execution_count": null,
      "outputs": []
    },
    {
      "cell_type": "markdown",
      "source": [
        "**Ejercicio 1**"
      ],
      "metadata": {
        "id": "1d_vauPqat_w"
      }
    },
    {
      "cell_type": "code",
      "source": [
        "import matplotlib.pyplot as plt\n",
        "\n",
        "x = [2046, 2047, 2048, 2049, 2050]\n",
        "y = [0, 1, 8, 14, 2]\n",
        "\n",
        "plt.bar(x, y)\n",
        "plt.xlabel(\"Año\")\n",
        "plt.ylabel(\"Millones de Zombies\")\n",
        "plt.show()"
      ],
      "metadata": {
        "id": "2a12ecmOau_a"
      },
      "execution_count": null,
      "outputs": []
    }
  ]
}