{
  "nbformat": 4,
  "nbformat_minor": 0,
  "metadata": {
    "colab": {
      "provenance": []
    },
    "kernelspec": {
      "name": "python3",
      "display_name": "Python 3"
    },
    "language_info": {
      "name": "python"
    }
  },
  "cells": [
    {
      "cell_type": "markdown",
      "source": [
        "**Módulo math**"
      ],
      "metadata": {
        "id": "2WthllglXvAM"
      }
    },
    {
      "cell_type": "code",
      "execution_count": null,
      "metadata": {
        "id": "uF5-02ThXtoz"
      },
      "outputs": [],
      "source": [
        "import math\n",
        "\n",
        "print(math.sqrt(16))\n",
        "print(math.fabs(-8))"
      ]
    },
    {
      "cell_type": "markdown",
      "source": [
        "**Módulo random**"
      ],
      "metadata": {
        "id": "17xbrwTHXzwr"
      }
    },
    {
      "cell_type": "code",
      "source": [
        "import random\n",
        "\n",
        "numAleatorio = random.randint(1, 10)\n",
        "print(numAleatorio)\n",
        "\n",
        "candidatos = [\"Jhair\", \"Harold\", \"Jeison\", \"Juan\"]\n",
        "print(random.choice(candidatos))"
      ],
      "metadata": {
        "id": "-MZoMPYeX0TK"
      },
      "execution_count": null,
      "outputs": []
    }
  ]
}