{
  "nbformat": 4,
  "nbformat_minor": 0,
  "metadata": {
    "colab": {
      "provenance": []
    },
    "kernelspec": {
      "name": "python3",
      "display_name": "Python 3"
    },
    "language_info": {
      "name": "python"
    }
  },
  "cells": [
    {
      "cell_type": "markdown",
      "source": [
        "**Valores**"
      ],
      "metadata": {
        "id": "GXAnxQ6HNYza"
      }
    },
    {
      "cell_type": "code",
      "execution_count": null,
      "metadata": {
        "id": "RGZwvRJ2MvCb"
      },
      "outputs": [],
      "source": [
        "precio1 = 100\n",
        "precio2 = precio1\n",
        "print(precio1)\n",
        "precio2 = 200\n",
        "print(precio1)"
      ]
    },
    {
      "cell_type": "markdown",
      "source": [
        "**Referencias**"
      ],
      "metadata": {
        "id": "ZIbkrgXoNhze"
      }
    },
    {
      "cell_type": "code",
      "source": [
        "motos1 = [\"Yamaha\"]\n",
        "motos2 = motos1\n",
        "print(motos1[0])\n",
        "motos2[0] = \"Ducati\"\n",
        "print(motos1[0])"
      ],
      "metadata": {
        "id": "63Uzqg6nNiSF"
      },
      "execution_count": null,
      "outputs": []
    },
    {
      "cell_type": "markdown",
      "source": [
        "**Definiendo nuestra primera función**"
      ],
      "metadata": {
        "id": "bqbJfiX0NrvN"
      }
    },
    {
      "cell_type": "code",
      "source": [
        "def saludar():\n",
        "  print(\"Bienvenido\")\n",
        "  print(\"A mi programa\")\n",
        "\n",
        "saludar()\n",
        "print(\"Fin programa\")"
      ],
      "metadata": {
        "id": "eQ4fDML_NsUG"
      },
      "execution_count": null,
      "outputs": []
    },
    {
      "cell_type": "markdown",
      "source": [
        "**Funciones con parámetros**"
      ],
      "metadata": {
        "id": "ow1_O9hGOCjV"
      }
    },
    {
      "cell_type": "code",
      "source": [
        "def saludoPersonalizado(nombre, apellido):\n",
        "  print(\"Hola \"+nombre+\" \"+apellido)\n",
        "\n",
        "saludoPersonalizado(\"Juliana\", \"Correa\")\n",
        "saludoPersonalizado(\"Gonzalo\", \"Velasquez\")"
      ],
      "metadata": {
        "id": "Xato1CRfODFc"
      },
      "execution_count": null,
      "outputs": []
    },
    {
      "cell_type": "markdown",
      "source": [
        "**Funciones con parámetros (error)**"
      ],
      "metadata": {
        "id": "Csc-T9UkOI_F"
      }
    },
    {
      "cell_type": "code",
      "source": [
        "def sumar(num1, num2):\n",
        "  suma = num1+num2\n",
        "  print(suma)\n",
        "\n",
        "sumar()"
      ],
      "metadata": {
        "id": "Rtk9uMwTOJkV"
      },
      "execution_count": null,
      "outputs": []
    },
    {
      "cell_type": "markdown",
      "source": [
        "**Funciones con parámetros (solución)**"
      ],
      "metadata": {
        "id": "blvw1JWFOPBs"
      }
    },
    {
      "cell_type": "code",
      "source": [
        "def sumar(num1, num2):\n",
        "  suma = num1+num2\n",
        "  print(suma)\n",
        "\n",
        "sumar(4, 10)"
      ],
      "metadata": {
        "id": "GZQJ3kqAOPJ2"
      },
      "execution_count": null,
      "outputs": []
    },
    {
      "cell_type": "markdown",
      "source": [
        "**Ámbito local (error)**"
      ],
      "metadata": {
        "id": "ENgvtT6SOtfU"
      }
    },
    {
      "cell_type": "code",
      "source": [
        "def sumar(num1, num2):\n",
        "  suma = num1+num2\n",
        "  print(suma)\n",
        "\n",
        "sumar(4, 6)\n",
        "print(suma)"
      ],
      "metadata": {
        "id": "ZicAcrLjOuGN"
      },
      "execution_count": null,
      "outputs": []
    },
    {
      "cell_type": "markdown",
      "source": [
        "**Ámbito global**"
      ],
      "metadata": {
        "id": "3h5jx5tmO7s8"
      }
    },
    {
      "cell_type": "code",
      "source": [
        "def calcularPrecioFinal(precio):\n",
        "  precioFinal = precio+impuestos\n",
        "  print(precioFinal)\n",
        "\n",
        "impuestos = 10\n",
        "calcularPrecioFinal(100)"
      ],
      "metadata": {
        "id": "ZsL4SdXCO8Q1"
      },
      "execution_count": null,
      "outputs": []
    },
    {
      "cell_type": "markdown",
      "source": [
        "**Funciones con retorno**"
      ],
      "metadata": {
        "id": "ASPCSYW5PvQk"
      }
    },
    {
      "cell_type": "code",
      "source": [
        "def calcularMulta(diasDeRetraso):\n",
        "  if(diasDeRetraso > 7):\n",
        "    return diasDeRetraso*2\n",
        "  else:\n",
        "    return 3\n",
        "\n",
        "dias = int(input(\"Ingrese los días de retraso: \"))\n",
        "multa = calcularMulta(dias)\n",
        "print(\"Debe pagar \"+str(multa)+\" dólares de multa\")"
      ],
      "metadata": {
        "id": "Wv6aZcdtPvxE"
      },
      "execution_count": null,
      "outputs": []
    },
    {
      "cell_type": "markdown",
      "source": [
        "**Calculadora**"
      ],
      "metadata": {
        "id": "WfahnnBrP9ub"
      }
    },
    {
      "cell_type": "code",
      "source": [
        "def sumar():\n",
        "  num1 = float(input(\"Ingrese el primer número: \"))\n",
        "  num2 = float(input(\"Ingrese el segundo número: \"))\n",
        "  resultado = num1+num2\n",
        "  print(\"La suma es: \"+str(resultado))\n",
        "\n",
        "while(True):\n",
        "  print(\"----Ingrese----\")\n",
        "  print(\"1) Para sumar\")\n",
        "  print(\"0) Para salir\")\n",
        "  opcion = int(input())\n",
        "  if(opcion == 1):\n",
        "    sumar()\n",
        "  elif (opcion == 0):\n",
        "    print(\"Chao\")\n",
        "    break"
      ],
      "metadata": {
        "id": "13hTc4p2P-Vi"
      },
      "execution_count": null,
      "outputs": []
    },
    {
      "cell_type": "markdown",
      "source": [
        "**Opción restar**"
      ],
      "metadata": {
        "id": "sdzSDZq4QHXc"
      }
    },
    {
      "cell_type": "code",
      "source": [
        "def sumar():\n",
        "  num1 = float(input(\"Ingrese el primer número: \"))\n",
        "  num2 = float(input(\"Ingrese el segundo número: \"))\n",
        "  resultado = num1+num2\n",
        "  print(\"La suma es: \"+str(resultado))\n",
        "\n",
        "def restar():\n",
        "  num1 = float(input(\"Ingrese el primer número: \"))\n",
        "  num2 = float(input(\"Ingrese el segundo número: \"))\n",
        "  resultado = num1-num2\n",
        "  print(\"La resta es: \"+str(resultado))\n",
        "\n",
        "while(True):\n",
        "  print(\"----Ingrese----\")\n",
        "  print(\"1) Para sumar\")\n",
        "  print(\"2) Para restar\")\n",
        "  print(\"0) Para salir\")\n",
        "  opcion = int(input())\n",
        "  if(opcion == 1):\n",
        "    sumar()\n",
        "  elif(opcion == 2):\n",
        "    restar()\n",
        "  elif(opcion == 0):\n",
        "    print(\"Chao\")\n",
        "    break"
      ],
      "metadata": {
        "id": "j20_27RrQH_U"
      },
      "execution_count": null,
      "outputs": []
    },
    {
      "cell_type": "markdown",
      "source": [
        "**Ejemplo del flujo de ejecución de las funciones - 1**"
      ],
      "metadata": {
        "id": "M1GdZTRcQYFC"
      }
    },
    {
      "cell_type": "code",
      "source": [
        "def saludo():\n",
        "  print(\"Bienvenido\")\n",
        "  print(\"A mi programa\")\n",
        "\n",
        "saludo()"
      ],
      "metadata": {
        "id": "SY-XDM12QbdE"
      },
      "execution_count": null,
      "outputs": []
    },
    {
      "cell_type": "markdown",
      "source": [
        "**Ejemplo del flujo de ejecución de las funciones - 2**"
      ],
      "metadata": {
        "id": "i3miFLIFQuyj"
      }
    },
    {
      "cell_type": "code",
      "source": [
        "def alerta():\n",
        "  print(\"Ciudado\")\n",
        "  print(\"Perros bravos en la propiedad\")\n",
        "\n",
        "alerta()\n",
        "alerta()"
      ],
      "metadata": {
        "id": "bSqGBllgQv1b"
      },
      "execution_count": null,
      "outputs": []
    },
    {
      "cell_type": "markdown",
      "source": [
        "**Ejercicio 1**"
      ],
      "metadata": {
        "id": "kwG_0JPXR98r"
      }
    },
    {
      "cell_type": "code",
      "source": [
        "def primerNombre(nombres):\n",
        "  print(nombres[0])\n",
        "\n",
        "nombres = [\"Zeus\", \"Poseidon\", \"Ares\"]\n",
        "primerNombre(nombres)"
      ],
      "metadata": {
        "id": "2Q461vdSR_Ic"
      },
      "execution_count": null,
      "outputs": []
    },
    {
      "cell_type": "markdown",
      "source": [
        "**Reto 1**"
      ],
      "metadata": {
        "id": "t9xDcb-PSJIp"
      }
    },
    {
      "cell_type": "code",
      "source": [
        "def sumar():\n",
        "  num1 = float(input(\"Ingrese el primer número: \"))\n",
        "  num2 = float(input(\"Ingrese el segundo número: \"))\n",
        "  resultado = num1+num2\n",
        "  print(\"La suma es: \"+str(resultado))\n",
        "\n",
        "def restar():\n",
        "  num1 = float(input(\"Ingrese el primer número: \"))\n",
        "  num2 = float(input(\"Ingrese el segundo número: \"))\n",
        "  resultado = num1-num2\n",
        "  print(\"La resta es: \"+str(resultado))\n",
        "\n",
        "def multiplicar():\n",
        "  num1 = float(input(\"Ingrese el primer número: \"))\n",
        "  num2 = float(input(\"Ingrese el segundo número: \"))\n",
        "  resultado = num1*num2\n",
        "  print(\"La multiplicación es: \"+str(resultado))\n",
        "\n",
        "def dividir():\n",
        "  num1 = float(input(\"Ingrese el primer número: \"))\n",
        "  num2 = float(input(\"Ingrese el segundo número: \"))\n",
        "  if(num2 != 0):\n",
        "    resultado = num1/num2\n",
        "    print(\"La división es: \"+str(resultado))\n",
        "  else:\n",
        "    print(\"Denominador inválido\")\n",
        "\n",
        "def elevarCuadrado():\n",
        "  num1 = float(input(\"Ingrese el número: \"))\n",
        "  resultado = num1*num1\n",
        "  print(\"El cuadrado es: \"+str(resultado))\n",
        "\n",
        "while(True):\n",
        "  print(\"----Ingrese----\")\n",
        "  print(\"1) Para sumar\")\n",
        "  print(\"2) Para restar\")\n",
        "  print(\"3) Para multiplicar\")\n",
        "  print(\"4) Para dividir\")\n",
        "  print(\"5) Para elevar al cuadrado\")\n",
        "  print(\"0) Para salir\")\n",
        "  accion = int(input())\n",
        "  if(accion == 1):\n",
        "    sumar()\n",
        "  elif(accion == 2):\n",
        "    restar()\n",
        "  elif(accion == 3):\n",
        "    multiplicar()\n",
        "  elif(accion == 4):\n",
        "    dividir()\n",
        "  elif(accion == 5):\n",
        "    elevarCuadrado()\n",
        "  elif(accion == 0):\n",
        "    print(\"Chao\")\n",
        "    break"
      ],
      "metadata": {
        "id": "odHt4KS7SKLU"
      },
      "execution_count": null,
      "outputs": []
    }
  ]
}